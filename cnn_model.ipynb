{
 "cells": [
  {
   "cell_type": "code",
   "execution_count": 1,
   "metadata": {},
   "outputs": [
    {
     "name": "stderr",
     "output_type": "stream",
     "text": [
      "Using TensorFlow backend.\n"
     ]
    }
   ],
   "source": [
    "# import os\n",
    "# import tensorflow as tf\n",
    "# from tensorflow.keras.layers import Conv2D, ZeroPadding2D\n",
    "# from tensorflow.keras.layers import MaxPooling2D, AveragePooling2D\n",
    "# from tensorflow.keras.layers import Dense, Dropout, Flatten, BatchNormalization\n",
    "# from tensorflow.keras.models import Sequential\n",
    "# from tensorflow.keras.losses import categorical_crossentropy\n",
    "# from tensorflow.keras.optimizers import Adadelta\n",
    "# from tensorflow.keras import backend as K\n",
    "# import torch\n",
    "import keras\n",
    "from keras.layers import Conv2D, MaxPooling2D, BatchNormalization\n",
    "from keras.layers import Flatten, Dense, Dropout\n",
    "from keras.models import Sequential\n",
    "from keras.callbacks import ModelCheckpoint\n",
    "from keras import backend as K\n",
    "# import matplotlib.pyplot as plt\n",
    "from src import utils\n",
    "from src.utils import Plot\n",
    "# from src.utils import Plot\n",
    "\n",
    "# os.environ['KMP_DUPLICATE_LIB_OK'] = 'True'\n",
    "\n",
    "# import importlib\n",
    "# importlib.reload(utils)"
   ]
  },
  {
   "cell_type": "markdown",
   "metadata": {},
   "source": [
    "A common CNN feature learning architecture is similar to that shown above, where feature maps are constructed with ReLU-activated convolutional layers and intermittent max pooling. It's also fairly common to normalize the batch of input layers prior to convolution in the feature learning segment."
   ]
  },
  {
   "cell_type": "markdown",
   "metadata": {},
   "source": [
    "## Classification\n",
    "\n",
    "In the classification segment of the network, we flatten the final laywe shift our focus to classification using fully connected (FC) layers.\n",
    "\n",
    "### Fully Connected (FC) Layers"
   ]
  },
  {
   "cell_type": "code",
   "execution_count": 2,
   "metadata": {},
   "outputs": [],
   "source": [
    "x_train, y_train, x_test, y_test, input_shape = utils.load_mnist(method='keras')\n",
    "x_train = K.eval(x_train)\n",
    "y_train = K.eval(y_train)\n",
    "x_test = K.eval(x_test)\n",
    "y_test = K.eval(y_test)"
   ]
  },
  {
   "cell_type": "markdown",
   "metadata": {},
   "source": [
    "$$\\begin{aligned} \\underset{30 \\times 30 \\times 1}{ \\ \\ \\textsf{input}^+} \\ \\ _{\\circledast \\ \\ \\text{conv}_{3 \\times 3} \\ + \\ \\text{ReLU} \\ \\ \\longmapsto} \\ \\ \\underset{30 \\times 30 \\times 32}{ \\ \\ \\textsf{conv1}^+} \\ \\ _{\\circledast \\ \\ \\text{conv}_{3 \\times 3} \\ + \\ \\text{ReLU} \\ \\ \\longmapsto} \\ \\ \\underset{28 \\times 28 \\times 64}{\\textsf{conv2}} \\ \\ _{ \\ast \\ \\ \\text{max pool}_{2 \\times 2} \\ \\ \\longmapsto}\\\\[5pt]\n",
    "\\underset{16 \\times 16 \\times 64}{ \\, \\ \\textsf{pool1}^\\ddagger} \\ \\ _{\\circledast \\ \\ \\text{conv}_{3 \\times 3} \\ + \\ \\text{ReLU} \\ \\ \\longmapsto} \\ \\ \\underset{14 \\times 14 \\times 64}{\\textsf{conv3}} \\ \\ _{ \\ast \\ \\ \\text{max pool}_{2 \\times 2} \\ \\ \\longmapsto} \\ \\ \\underset{8 \\times 8 \\times 64}{ \\, \\ \\textsf{pool2}^\\ddagger} \\ \\ _{\\circledast \\ \\ \\text{conv}_{3 \\times 3} \\ + \\ \\text{ReLU} \\ \\ \\longmapsto}\\\\[5pt]\n",
    "\\underset{7 \\times 7 \\times 64}{ \\, \\ \\textsf{conv4}^\\dagger} \\ \\ _{\\circledast \\ \\ \\text{conv}_{3 \\times 3} \\ + \\ \\text{ReLU} \\ \\ \\longmapsto} \\ \\ \\underset{5 \\times 5 \\times 64}{ \\, \\ \\textsf{conv5}^\\dagger} \\ \\ _{ + \\ \\ \\text{flatten}_{1600} \\ + \\ \\text{dropout}_{0.25} \\ + \\ \\text{dense}_{128} \\ + \\ \\text{ReLU} \\ \\ \\longmapsto}\\\\[10pt]\n",
    "\\underset{1 \\times 1 \\times 128}{\\textsf{FC6}} \\ \\ _{ + \\ \\ \\text{dropout}_{0.5} \\ + \\ \\text{dense}_{128} \\ + \\ \\text{ReLU} \\ \\ \\longmapsto} \\ \\ \\underset{1 \\times 1 \\times 128}{\\textsf{FC7}} \\ \\ _{ + \\ \\ \\text{dropout}_{0.5} \\ + \\ \\text{dense}_{10} \\ + \\ \\text{Softmax} \\ \\ \\longmapsto} \\ \\ \\underset{1 \\times 1 \\times 10}{\\textsf{output}} \\end{aligned}$$"
   ]
  },
  {
   "cell_type": "markdown",
   "metadata": {},
   "source": [
    "Here, we introduce FC layers by building a network beginning with feature learning. We initialize a Keras sequential model object as follows:"
   ]
  },
  {
   "cell_type": "markdown",
   "metadata": {},
   "source": [
    "Beginning with the architecture\n",
    "\n",
    "$$\\underset{30 \\times 30 \\times 1}{ \\ \\ \\textsf{input}^+} \\ \\ _{\\circledast \\ \\ \\text{conv}_{3 \\times 3} \\ + \\ \\text{ReLU} \\ \\ \\longmapsto} \\ \\ \\underset{30 \\times 30 \\times 32}{ \\ \\ \\textsf{conv1}^+} \\ \\ _{\\circledast \\ \\ \\text{conv}_{3 \\times 3} \\ + \\ \\text{ReLU} \\ \\ \\longmapsto} \\ \\ \\underset{28 \\times 28 \\times 64}{\\textsf{conv2}} \\ \\ _{ \\ast \\ \\ \\text{max pool}_{2 \\times 2} \\ \\ \\longmapsto} \\ \\ \\underset{16 \\times 16 \\times 64}{ \\, \\ \\textsf{pool1}^\\ddagger}$$\n",
    "\n",
    "we add layers as follows:"
   ]
  },
  {
   "cell_type": "code",
   "execution_count": 3,
   "metadata": {},
   "outputs": [],
   "source": [
    "model = Sequential()"
   ]
  },
  {
   "cell_type": "code",
   "execution_count": 4,
   "metadata": {},
   "outputs": [],
   "source": [
    "model.add(Conv2D(16, 3, padding='same', activation='relu', input_shape=(28, 28, 1)))\n",
    "model.add(Conv2D(16, 3, padding='same', activation='relu'))\n",
    "model.add(MaxPooling2D(pool_size=(2, 2)))\n",
    "model.add(BatchNormalization())"
   ]
  },
  {
   "cell_type": "markdown",
   "metadata": {},
   "source": [
    "$$\\underset{16 \\times 16 \\times 64}{ \\, \\ \\textsf{pool1}^\\ddagger} \\ \\ _{\\circledast \\ \\ \\text{conv}_{3 \\times 3} \\ + \\ \\text{ReLU} \\ \\ \\longmapsto} \\ \\ \\underset{14 \\times 14 \\times 64}{\\textsf{conv3}} \\ \\ _{ \\ast \\ \\ \\text{max pool}_{2 \\times 2} \\ \\ \\longmapsto} \\ \\ \\underset{8 \\times 8 \\times 64}{ \\, \\ \\textsf{pool2}^\\ddagger} \\ \\ _{\\circledast \\ \\ \\text{conv}_{3 \\times 3} \\ + \\ \\text{ReLU} \\ \\ \\longmapsto} \\ \\ \\underset{7 \\times 7 \\times 64}{ \\, \\ \\textsf{conv4}^\\dagger}$$"
   ]
  },
  {
   "cell_type": "code",
   "execution_count": 5,
   "metadata": {},
   "outputs": [],
   "source": [
    "model.add(Conv2D(32, kernel_size=3, padding='same', activation='relu'))\n",
    "model.add(Conv2D(32, kernel_size=3, padding='same', activation='relu'))\n",
    "model.add(MaxPooling2D(pool_size=(2, 2)))\n",
    "model.add(BatchNormalization())\n",
    "model.add(Conv2D(64, kernel_size=3, padding='same', activation='relu'))\n",
    "# model.add(BatchNormalization())"
   ]
  },
  {
   "cell_type": "markdown",
   "metadata": {},
   "source": [
    "Here we switch over to classification by vectorizing `conv5` as follows:"
   ]
  },
  {
   "cell_type": "markdown",
   "metadata": {},
   "source": [
    "$$\\underset{7 \\times 7 \\times 64}{ \\, \\ \\textsf{conv4}^\\dagger} \\ \\ _{\\circledast \\ \\ \\text{conv}_{3 \\times 3} \\ + \\ \\text{ReLU} \\ \\ \\longmapsto} \\ \\ \\underset{5 \\times 5 \\times 64}{ \\, \\ \\textsf{conv5}^\\dagger} \\ \\ _{ + \\ \\ \\text{flatten}_{1600} \\ + \\ \\text{dropout}_{0.25} \\ + \\ \\text{dense}_{156} \\ + \\ \\text{ReLU} \\ \\ \\longmapsto} \\ \\ \\underset{1 \\times 1 \\times 156}{\\textsf{FC6}}$$"
   ]
  },
  {
   "cell_type": "code",
   "execution_count": 6,
   "metadata": {},
   "outputs": [],
   "source": [
    "model.add(Conv2D(64, kernel_size=3, padding='same', activation='relu'))\n",
    "model.add(Conv2D(64, kernel_size=3, padding='same', activation='relu'))\n",
    "model.add(BatchNormalization())\n",
    "model.add(Flatten())\n",
    "model.add(Dropout(0.25))\n",
    "model.add(Dense(128, activation='relu'))"
   ]
  },
  {
   "cell_type": "markdown",
   "metadata": {},
   "source": [
    "$$\\underset{1 \\times 1 \\times 156}{\\textsf{FC6}} \\ \\ _{ + \\ \\text{dropout}_{0.5} \\ + \\ \\text{dense}_{156} \\ + \\ \\text{ReLU} \\ \\ \\longmapsto} \\ \\ \\underset{1 \\times 1 \\times 156}{\\textsf{FC7}} \\ \\ _{ + \\ \\text{dropout}_{0.5} \\ + \\ \\text{dense}_{10} \\ + \\ \\text{Softmax} \\ \\ \\longmapsto} \\ \\ \\underset{1 \\times 1 \\times 10}{\\textsf{output}}$$"
   ]
  },
  {
   "cell_type": "code",
   "execution_count": 7,
   "metadata": {},
   "outputs": [],
   "source": [
    "model.add(Dropout(0.5))\n",
    "model.add(Dense(128, activation='relu'))\n",
    "model.add(Dropout(0.5))\n",
    "model.add(Dense(10, activation='softmax'))"
   ]
  },
  {
   "cell_type": "code",
   "execution_count": 8,
   "metadata": {},
   "outputs": [
    {
     "name": "stdout",
     "output_type": "stream",
     "text": [
      "Model: \"sequential_1\"\n",
      "_________________________________________________________________\n",
      "Layer (type)                 Output Shape              Param #   \n",
      "=================================================================\n",
      "conv2d_1 (Conv2D)            (None, 28, 28, 16)        160       \n",
      "_________________________________________________________________\n",
      "conv2d_2 (Conv2D)            (None, 28, 28, 16)        2320      \n",
      "_________________________________________________________________\n",
      "max_pooling2d_1 (MaxPooling2 (None, 14, 14, 16)        0         \n",
      "_________________________________________________________________\n",
      "batch_normalization_1 (Batch (None, 14, 14, 16)        64        \n",
      "_________________________________________________________________\n",
      "conv2d_3 (Conv2D)            (None, 14, 14, 32)        4640      \n",
      "_________________________________________________________________\n",
      "conv2d_4 (Conv2D)            (None, 14, 14, 32)        9248      \n",
      "_________________________________________________________________\n",
      "max_pooling2d_2 (MaxPooling2 (None, 7, 7, 32)          0         \n",
      "_________________________________________________________________\n",
      "batch_normalization_2 (Batch (None, 7, 7, 32)          128       \n",
      "_________________________________________________________________\n",
      "conv2d_5 (Conv2D)            (None, 7, 7, 64)          18496     \n",
      "_________________________________________________________________\n",
      "conv2d_6 (Conv2D)            (None, 7, 7, 64)          36928     \n",
      "_________________________________________________________________\n",
      "conv2d_7 (Conv2D)            (None, 7, 7, 64)          36928     \n",
      "_________________________________________________________________\n",
      "batch_normalization_3 (Batch (None, 7, 7, 64)          256       \n",
      "_________________________________________________________________\n",
      "flatten_1 (Flatten)          (None, 3136)              0         \n",
      "_________________________________________________________________\n",
      "dropout_1 (Dropout)          (None, 3136)              0         \n",
      "_________________________________________________________________\n",
      "dense_1 (Dense)              (None, 128)               401536    \n",
      "_________________________________________________________________\n",
      "dropout_2 (Dropout)          (None, 128)               0         \n",
      "_________________________________________________________________\n",
      "dense_2 (Dense)              (None, 128)               16512     \n",
      "_________________________________________________________________\n",
      "dropout_3 (Dropout)          (None, 128)               0         \n",
      "_________________________________________________________________\n",
      "dense_3 (Dense)              (None, 10)                1290      \n",
      "=================================================================\n",
      "Total params: 528,506\n",
      "Trainable params: 528,282\n",
      "Non-trainable params: 224\n",
      "_________________________________________________________________\n"
     ]
    }
   ],
   "source": [
    "model.summary()"
   ]
  },
  {
   "cell_type": "code",
   "execution_count": null,
   "metadata": {},
   "outputs": [],
   "source": [
    "# fp = 'models/best_weights.hdf5'\n",
    "# checkpoint = ModelCheckpoint(fp, monitor='val_accuracy', save_best_only=True,\n",
    "#                              save_weights_only=True, mode='max')"
   ]
  },
  {
   "cell_type": "code",
   "execution_count": 9,
   "metadata": {},
   "outputs": [],
   "source": [
    "model.compile(optimizer='nadam', loss='categorical_crossentropy',\n",
    "              metrics=['accuracy'])"
   ]
  },
  {
   "cell_type": "code",
   "execution_count": 10,
   "metadata": {},
   "outputs": [
    {
     "name": "stdout",
     "output_type": "stream",
     "text": [
      "Train on 48000 samples, validate on 12000 samples\n",
      "Epoch 1/1\n",
      "48000/48000 [==============================] - 70s 1ms/step - loss: 0.3631 - accuracy: 0.8946 - val_loss: 0.2691 - val_accuracy: 0.9308\n"
     ]
    },
    {
     "data": {
      "text/plain": [
       "<keras.callbacks.callbacks.History at 0x658efcb90>"
      ]
     },
     "execution_count": 10,
     "metadata": {},
     "output_type": "execute_result"
    }
   ],
   "source": [
    "# model.fit(x_train, y_train, batch_size=128, epochs=10, verbose=1, callbacks=[checkpoint],\n",
    "#           validation_split=0.2, initial_epoch=0)\n",
    "model.fit(x_train, y_train, batch_size=128, epochs=1, verbose=1,\n",
    "          validation_split=0.2, initial_epoch=0)"
   ]
  },
  {
   "cell_type": "code",
   "execution_count": null,
   "metadata": {},
   "outputs": [],
   "source": [
    "model.fit(x_train, y_train, batch_size=128, epochs=20, verbose=1, callbacks=[checkpoint],\n",
    "          validation_data=(x_test, y_test), initial_epoch=10)"
   ]
  },
  {
   "cell_type": "code",
   "execution_count": null,
   "metadata": {},
   "outputs": [],
   "source": [
    "model.fit(x_train, y_train, batch_size=128, epochs=30, verbose=1, callbacks=[checkpoint],\n",
    "          validation_data=(x_test, y_test), initial_epoch=20)"
   ]
  },
  {
   "cell_type": "code",
   "execution_count": null,
   "metadata": {},
   "outputs": [],
   "source": [
    "model.fit(x_train, y_train, batch_size=128, epochs=40, verbose=1, callbacks=[checkpoint],\n",
    "          validation_data=(x_test, y_test), initial_epoch=30)"
   ]
  },
  {
   "cell_type": "code",
   "execution_count": null,
   "metadata": {},
   "outputs": [],
   "source": [
    "model.fit(x_train, y_train, batch_size=128, epochs=50, verbose=1, callbacks=[checkpoint],\n",
    "          validation_data=(x_test, y_test), initial_epoch=40)"
   ]
  },
  {
   "cell_type": "code",
   "execution_count": null,
   "metadata": {},
   "outputs": [],
   "source": [
    "model.load_weights(fp)\n",
    "\n",
    "score = model.evaluate(x_test, y_test, verbose=0)\n",
    "print('Test loss:', score[0])\n",
    "print('Test accuracy:', score[1])"
   ]
  }
 ],
 "metadata": {
  "kernelspec": {
   "display_name": "Python 3",
   "language": "python",
   "name": "python3"
  },
  "language_info": {
   "codemirror_mode": {
    "name": "ipython",
    "version": 3
   },
   "file_extension": ".py",
   "mimetype": "text/x-python",
   "name": "python",
   "nbconvert_exporter": "python",
   "pygments_lexer": "ipython3",
   "version": "3.7.4"
  }
 },
 "nbformat": 4,
 "nbformat_minor": 2
}
