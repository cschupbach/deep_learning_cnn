{
 "cells": [
  {
   "cell_type": "code",
   "execution_count": 123,
   "metadata": {},
   "outputs": [],
   "source": [
    "# import os\n",
    "# import tensorflow as tf\n",
    "# from tensorflow.keras.layers import Conv2D, ZeroPadding2D\n",
    "# from tensorflow.keras.layers import MaxPooling2D, AveragePooling2D\n",
    "# from tensorflow.keras.layers import Dense, Dropout, Flatten, BatchNormalization\n",
    "# from tensorflow.keras.models import Sequential\n",
    "# from tensorflow.keras.losses import categorical_crossentropy\n",
    "# from tensorflow.keras.optimizers import Adadelta\n",
    "# from tensorflow.keras import backend as K\n",
    "import torch\n",
    "import keras\n",
    "from keras.layers import Conv2D, MaxPooling2D, AveragePooling2D\n",
    "from keras.layers import Dense, Dropout, Flatten, BatchNormalization\n",
    "from keras.models import Sequential\n",
    "from keras.losses import categorical_crossentropy\n",
    "from keras.optimizers import Adadelta\n",
    "from keras import backend as K\n",
    "import matplotlib.pyplot as plt\n",
    "from src import utils\n",
    "from src.utils import Plot\n",
    "\n",
    "# os.environ['KMP_DUPLICATE_LIB_OK'] = 'True'"
   ]
  },
  {
   "cell_type": "code",
   "execution_count": 124,
   "metadata": {},
   "outputs": [
    {
     "data": {
      "text/plain": [
       "<module 'src.utils' from '/Users/chadschupbach/projects/personal/mnist/src/utils.py'>"
      ]
     },
     "execution_count": 124,
     "metadata": {},
     "output_type": "execute_result"
    }
   ],
   "source": [
    "import importlib\n",
    "importlib.reload(utils)"
   ]
  },
  {
   "cell_type": "markdown",
   "metadata": {},
   "source": [
    "# Network Architecture\n",
    "\n",
    "Convolutional neural networks classify high-dimensional input data by extracting feature maps in an iterative process known as feature learning.\n",
    "\n",
    "$$\\textsf{input} \\ \\ \\longrightarrow \\ \\ \\textsf{feature learning} \\ \\ \\longrightarrow \\ \\ \\textsf{classification}$$\n",
    "\n",
    "## Feature Learning\n",
    "\n",
    "The feature learning segment of the network is a set of feature maps or layers primarily constructed using convolutional kernels convolved with the input layers in a sequence.\n",
    "\n",
    "$$\\textsf{input} \\ \\ \\circledast \\ \\ \\text{conv}_{1} \\ \\ \\circledast \\ \\cdots \\ \\circledast \\ \\text{conv}_{N} \\ \\ \\longrightarrow \\ \\textsf{classification}$$"
   ]
  },
  {
   "cell_type": "markdown",
   "metadata": {},
   "source": [
    "### Convolutional Layers"
   ]
  },
  {
   "cell_type": "markdown",
   "metadata": {},
   "source": [
    "Here we discuss the role of convolutional kernels/filters in CNN architecture. Given input $x_\\text{in}$ and the convolutional kernel function $\\Omega$, the \n",
    "Given a convolutional kernel function $\\Omega$, the convolutional kernel of $\\omega$ is convolved with an input layer $x_\\text{in}$, such that,\n",
    "\n",
    "$$x_\\text{out} = \\Omega(x_\\text{in})\\tag{1}$$\n",
    "\n",
    "where $x_\\text{out}$ is the output layer. The shape of the output layer $x_\\text{out}$ is dependent on the shape of the input layer $x_\\text{in} \\in \\mathbb{R}^{H_\\text{in} \\times W_\\text{in} \\times D_\\text{in}}$ and the hyperparameters of the kernel function $\\Omega$: the number of kernels $K$, kernel size $F$, the stride $S$, and the amount of padding $P$ used on the input border.\n",
    "\n",
    "$$x_\\text{in} \\in \\mathbb{R}^{H_\\text{in} \\times W_\\text{in} \\times D_\\text{in}} \\quad\\overset{\\Omega}{\\longrightarrow}\\quad x_\\text{out} \\in \\mathbb{R}^{H_\\text{out} \\times W_\\text{out} \\times D_\\text{out}}$$\n",
    "\n",
    "where\n",
    "\n",
    "$$H_\\text{out} = \\frac{H_\\text{in} - F + 2P}{S} + 1\\tag{2}$$\n",
    "\n",
    "$$W_\\text{out} = \\frac{W_\\text{in} - F + 2P}{S} + 1\\tag{3}$$\n",
    "\n",
    "$$D_\\text{out} = K\\tag{4}$$\n",
    "\n",
    "#### Example 1\n",
    "Let the input layer $x_\\text{in}$ be a tensor of size ${5 \\times 5 \\times 1}$ and the hyperparameters of $\\Omega$ be $K=2$, $F=3$, $S=1$ and $P=0$, such that,\n",
    "\n",
    "$$H_\\text{out} = \\frac{H_\\text{in} - F + 2P}{S} + 1 = \\frac{5 - 3 + 2(0)}{1} + 1 = 3$$\n",
    "\n",
    "$$W_\\text{out} = \\frac{W_\\text{in} - F + 2P}{S} + 1 = \\frac{5 - 3 + 2(0)}{1} + 1 = 3$$\n",
    "\n",
    "$$D_\\text{out} = K = 2$$\n",
    "\n",
    "Therefore, the output $x_\\text{out} \\in \\mathbb{R}^{3 \\times 3 \\times 2}$ is a feature map with 2 layers and each layer is a $3 \\times 3$ matrix. Further information about specific kernel functions and convolution can be found in the [`image_processing`](https://github.com/cschupbach/image_processing) repository."
   ]
  },
  {
   "cell_type": "markdown",
   "metadata": {},
   "source": [
    "#### PyTorch\n",
    "Example 2 briefly introduces the [`torch.nn`](https://pytorch.org/docs/stable/nn.html) module as an introduction to the PyTorch library. While the remainder of the notebook uses the Keras library, both PyTorch and Keras offer similar tools for constructing convolutional neural networks.\n",
    "\n",
    "Note that PyTorch documentation specifies use of an input tensor in *channels first* format. This means the default input tensor for 2-dimensional convolution is expected to have the shape $N \\times C_\\text{in} \\times H_\\text{in} \\times W_\\text{in}$, where $N$ is the batch size, $C_\\text{in}$ is the number of input channels/layers, $H_\\text{in}$ is the input height or the number of rows, and $W_\\text{in}$ is the width or the number of columns. Alternatively, Keras 2-dimensional convolution expects an input tensor of shape $N \\times H_\\text{in} \\times W_\\text{in} \\times C_\\text{in}$, which is known as *channels last* format."
   ]
  },
  {
   "cell_type": "markdown",
   "metadata": {},
   "source": [
    "#### Example 2\n",
    "\n",
    "Using [`utils.py`](https://github.com/cschupbach/deep_learning_cnn/blob/master/src/utils.py), we load image 9 of the Keras MNIST [dataset](https://keras.io/datasets/) below."
   ]
  },
  {
   "cell_type": "code",
   "execution_count": 125,
   "metadata": {},
   "outputs": [
    {
     "name": "stdout",
     "output_type": "stream",
     "text": [
      "torch.Size([1, 1, 28, 28])\n"
     ]
    }
   ],
   "source": [
    "x = utils.load_mnist(sample=9)"
   ]
  },
  {
   "cell_type": "markdown",
   "metadata": {},
   "source": [
    "Below, we use the `torch.nn` function `Conv2d` to create two 2-dimensional convolution objects, `conv1` and `conv2`. The first convolution object `conv1` uses 3 kernel filters ($K=3$) and no zero padding ($P=0$) of the input border, while `conv2` uses 6 kernel filters ($K=6$) and adds one pixel of zero padding ($P=1$) to the input border. Both convolution objects have kernel size $F=3$, stride $S=1$, and one input channel, given that the input tensor is of size $1 \\times 1 \\times 28 \\times 28$."
   ]
  },
  {
   "cell_type": "code",
   "execution_count": 126,
   "metadata": {},
   "outputs": [],
   "source": [
    "conv1 = torch.nn.Conv2d(in_channels=1, out_channels=3, kernel_size=3,\n",
    "                        stride=1, padding=0)"
   ]
  },
  {
   "cell_type": "code",
   "execution_count": 127,
   "metadata": {},
   "outputs": [],
   "source": [
    "conv2 = torch.nn.Conv2d(in_channels=1, out_channels=6, kernel_size=3,\n",
    "                        stride=1, padding=1)"
   ]
  },
  {
   "cell_type": "markdown",
   "metadata": {},
   "source": [
    "The kernels of each convolution object convolve the input `x` as follows:"
   ]
  },
  {
   "cell_type": "code",
   "execution_count": 128,
   "metadata": {},
   "outputs": [],
   "source": [
    "x1 = conv1(x).detach().numpy()\n",
    "x2 = conv2(x).detach().numpy()"
   ]
  },
  {
   "cell_type": "markdown",
   "metadata": {},
   "source": [
    "We apply the `network` function to object `Plot` of the `utils` module to plot the results of each convolution below."
   ]
  },
  {
   "cell_type": "code",
   "execution_count": 129,
   "metadata": {},
   "outputs": [
    {
     "data": {
      "image/png": "[encoded data removed]",
      "text/plain": [
       "<Figure size 720x288 with 5 Axes>"
      ]
     },
     "metadata": {
      "needs_background": "light"
     },
     "output_type": "display_data"
    }
   ],
   "source": [
    "Plot().network(x, [x1])"
   ]
  },
  {
   "cell_type": "code",
   "execution_count": 130,
   "metadata": {},
   "outputs": [
    {
     "data": {
      "image/png": "[encoded data removed]",
      "text/plain": [
       "<Figure size 720x288 with 8 Axes>"
      ]
     },
     "metadata": {
      "needs_background": "light"
     },
     "output_type": "display_data"
    }
   ],
   "source": [
    "Plot().network(x, [x2])"
   ]
  },
  {
   "cell_type": "markdown",
   "metadata": {},
   "source": [
    "### Activation Functions"
   ]
  },
  {
   "cell_type": "markdown",
   "metadata": {},
   "source": [
    "Most CNN architectures also apply an activation function to convolutional layers. We use activation functions to increase non-linearity in the network. In theory, the output layers of convolution with activation have a thresholding effect similar to that of action potentials in the biological firing of neurons.\n",
    "\n",
    "$$\\textsf{input} \\ \\ \\circledast \\ \\ \\text{conv}_{1} \\ + \\ \\text{activation}_1 \\ \\circledast \\ \\cdots \\ \\circledast \\ \\text{conv}_{N} \\ + \\ \\text{activation}_N \\longrightarrow \\ \\textsf{classification}$$"
   ]
  },
  {
   "cell_type": "markdown",
   "metadata": {},
   "source": [
    "#### Rectified Linear Unit  (ReLU)\n",
    "$$f(x) = \\begin{cases} 0 & \\text{for } x \\leq 0 \\\\\n",
    "x & \\text{for } x > 0 \\end{cases}$$"
   ]
  },
  {
   "cell_type": "markdown",
   "metadata": {},
   "source": [
    "Here we provide an example of convolution with ReLU activation using Keras. Because the Keras library uses *channels last* format (by default) for 2-dimensional convolution, we reload the same MNIST image in the proper format as follows:"
   ]
  },
  {
   "cell_type": "code",
   "execution_count": 158,
   "metadata": {},
   "outputs": [
    {
     "name": "stdout",
     "output_type": "stream",
     "text": [
      "(1, 28, 28, 1)\n"
     ]
    }
   ],
   "source": [
    "x = utils.load_mnist(method='keras', sample=9)"
   ]
  },
  {
   "cell_type": "markdown",
   "metadata": {},
   "source": [
    "We create two 2-dimensional convolution objects with ReLU activation, `relu1` and `relu2`, using the Keras function `Conv2D` below. The first convolution object `relu1` uses 3 kernel filters ($K=3$) and no zero padding ($P=0$) of the input border, while `relu2` uses 6 kernel filters ($K=6$) and adds one pixel of zero padding ($P=1$) to the input border. Both convolution objects have kernel size $F=3$ and stride $S=1$ (default). Note that the zero padding parameter is either `'valid'` (default), where $H_\\text{out}$ and $W_\\text{out}$ are according to equations (2) and (3) with $P=0$, or `'same'`, where $H_\\text{out} = H_\\text{in}$ and $W_\\text{out}=W_\\text{in}$."
   ]
  },
  {
   "cell_type": "code",
   "execution_count": 132,
   "metadata": {},
   "outputs": [],
   "source": [
    "relu1 = Conv2D(filters=3, kernel_size=3, strides=1, padding='valid',\n",
    "               activation='relu')\n",
    "relu2 = Conv2D(filters=6, kernel_size=3, strides=1, padding='same',\n",
    "               activation='relu')"
   ]
  },
  {
   "cell_type": "code",
   "execution_count": 133,
   "metadata": {},
   "outputs": [
    {
     "data": {
      "image/png": "[encoded data removed]",
      "text/plain": [
       "<Figure size 720x288 with 5 Axes>"
      ]
     },
     "metadata": {
      "needs_background": "light"
     },
     "output_type": "display_data"
    }
   ],
   "source": [
    "utils.display_conv(x, relu1, activation='ReLU')"
   ]
  },
  {
   "cell_type": "code",
   "execution_count": 134,
   "metadata": {},
   "outputs": [
    {
     "data": {
      "image/png": "[encoded data removed]",
      "text/plain": [
       "<Figure size 720x288 with 8 Axes>"
      ]
     },
     "metadata": {
      "needs_background": "light"
     },
     "output_type": "display_data"
    }
   ],
   "source": [
    "utils.display_conv(x, relu2, activation='ReLU')"
   ]
  },
  {
   "cell_type": "markdown",
   "metadata": {},
   "source": [
    "#### Softmax\n",
    "$$P(y=j| \\mathbf{x}) = \\frac{e^{\\mathbf{x}^\\mathsf{T}\\mathbf{w}_j}}{\\sum_{k=1}^{k} e^{\\mathbf{x}^\\mathsf{T}\\mathbf{w}_k}}$$"
   ]
  },
  {
   "cell_type": "code",
   "execution_count": 135,
   "metadata": {},
   "outputs": [],
   "source": [
    "softmax = Conv2D(filters=3, kernel_size=3, activation='softmax')"
   ]
  },
  {
   "cell_type": "code",
   "execution_count": 136,
   "metadata": {},
   "outputs": [
    {
     "data": {
      "image/png": "[encoded data removed]",
      "text/plain": [
       "<Figure size 720x288 with 5 Axes>"
      ]
     },
     "metadata": {
      "needs_background": "light"
     },
     "output_type": "display_data"
    }
   ],
   "source": [
    "utils.display_conv(x, softmax, activation='Softmax')"
   ]
  },
  {
   "cell_type": "markdown",
   "metadata": {},
   "source": [
    "#### Sigmoid\n",
    "$$f(x) = \\sigma(x) = \\frac{1}{1 + e^{-x}}$$"
   ]
  },
  {
   "cell_type": "code",
   "execution_count": 137,
   "metadata": {},
   "outputs": [],
   "source": [
    "sigmoid = Conv2D(filters=3, kernel_size=3, activation='sigmoid')"
   ]
  },
  {
   "cell_type": "code",
   "execution_count": 138,
   "metadata": {},
   "outputs": [
    {
     "data": {
      "image/png": "[encoded data removed]",
      "text/plain": [
       "<Figure size 720x288 with 5 Axes>"
      ]
     },
     "metadata": {
      "needs_background": "light"
     },
     "output_type": "display_data"
    }
   ],
   "source": [
    "utils.display_conv(x, sigmoid, activation='Sigmoid')"
   ]
  },
  {
   "cell_type": "markdown",
   "metadata": {},
   "source": [
    "#### Hyperbolic Tangent (tanh)\n",
    "$$f(x) = \\tanh(x) = \\frac{e^x - e^{-x}}{e^x + e^{-x}}$$"
   ]
  },
  {
   "cell_type": "code",
   "execution_count": 139,
   "metadata": {},
   "outputs": [],
   "source": [
    "tanh = Conv2D(filters=3, kernel_size=3, activation='tanh')"
   ]
  },
  {
   "cell_type": "code",
   "execution_count": 140,
   "metadata": {},
   "outputs": [
    {
     "data": {
      "image/png": "[encoded data removed]",
      "text/plain": [
       "<Figure size 720x288 with 5 Axes>"
      ]
     },
     "metadata": {
      "needs_background": "light"
     },
     "output_type": "display_data"
    }
   ],
   "source": [
    "utils.display_conv(x, tanh, activation='Tanh')"
   ]
  },
  {
   "cell_type": "markdown",
   "metadata": {},
   "source": [
    "#### Exponential Linear Unit (ELU)\n",
    "$$f(\\alpha, x) = \\begin{cases} \\alpha (e^x - 1) & \\text{for } x \\leq 0 \\\\\n",
    "x & \\text{for } x > 0 \\end{cases}$$"
   ]
  },
  {
   "cell_type": "code",
   "execution_count": 141,
   "metadata": {},
   "outputs": [],
   "source": [
    "elu = Conv2D(filters=3, kernel_size=3, activation='elu')"
   ]
  },
  {
   "cell_type": "code",
   "execution_count": 142,
   "metadata": {},
   "outputs": [
    {
     "data": {
      "image/png": "[encoded data removed]",
      "text/plain": [
       "<Figure size 720x288 with 5 Axes>"
      ]
     },
     "metadata": {
      "needs_background": "light"
     },
     "output_type": "display_data"
    }
   ],
   "source": [
    "utils.display_conv(x, elu, activation='ELU')"
   ]
  },
  {
   "cell_type": "markdown",
   "metadata": {},
   "source": [
    "#### Softplus\n",
    "$$f(x) = \\ln(1 + e^x)$$"
   ]
  },
  {
   "cell_type": "code",
   "execution_count": 143,
   "metadata": {},
   "outputs": [],
   "source": [
    "softplus = Conv2D(filters=3, kernel_size=3, activation='softplus')"
   ]
  },
  {
   "cell_type": "code",
   "execution_count": 144,
   "metadata": {},
   "outputs": [
    {
     "data": {
      "image/png": "[encoded data removed]",
      "text/plain": [
       "<Figure size 720x288 with 5 Axes>"
      ]
     },
     "metadata": {
      "needs_background": "light"
     },
     "output_type": "display_data"
    }
   ],
   "source": [
    "utils.display_conv(x, softplus, activation='Softplus')"
   ]
  },
  {
   "cell_type": "markdown",
   "metadata": {},
   "source": [
    "#### Softsign\n",
    "$$f(x) = \\frac{x}{1 + |x|}$$"
   ]
  },
  {
   "cell_type": "code",
   "execution_count": 145,
   "metadata": {},
   "outputs": [],
   "source": [
    "softsign = Conv2D(filters=3, kernel_size=3, activation='softsign')"
   ]
  },
  {
   "cell_type": "code",
   "execution_count": 146,
   "metadata": {},
   "outputs": [
    {
     "data": {
      "image/png": "[encoded data removed]",
      "text/plain": [
       "<Figure size 720x288 with 5 Axes>"
      ]
     },
     "metadata": {
      "needs_background": "light"
     },
     "output_type": "display_data"
    }
   ],
   "source": [
    "utils.display_conv(x, softsign, activation='Softsign')"
   ]
  },
  {
   "cell_type": "markdown",
   "metadata": {},
   "source": [
    "#### Others\n",
    "\n",
    "- Leaky ReLU\n",
    "\n",
    "- PReLU\n",
    "\n",
    "- RReLU\n",
    "\n",
    "- SELU\n",
    "\n",
    "- GELU"
   ]
  },
  {
   "cell_type": "markdown",
   "metadata": {},
   "source": [
    "### Pooling\n",
    "\n",
    "Pooling methods are often used between certain convolutions for dimensionality reduction. The most common method for pooling input layers is *max* pooling using a $2 \\times 2$ kernel with non-overlapping strides. In certain cases with very large input, pooling with a $3 \\times 3$ kernel may be effective. Typically, *max* pooling produces better results than the less common *average* pooling.\n",
    "\n",
    "#### Max Pooling"
   ]
  },
  {
   "cell_type": "code",
   "execution_count": 147,
   "metadata": {},
   "outputs": [],
   "source": [
    "relu = Conv2D(filters=6, kernel_size=3, padding='same', activation='relu')\n",
    "tanh = Conv2D(filters=6, kernel_size=3, padding='same', activation='tanh')"
   ]
  },
  {
   "cell_type": "code",
   "execution_count": 148,
   "metadata": {},
   "outputs": [],
   "source": [
    "maxpool = MaxPooling2D(pool_size=(2, 2))"
   ]
  },
  {
   "cell_type": "code",
   "execution_count": 149,
   "metadata": {},
   "outputs": [
    {
     "data": {
      "image/png": "[encoded data removed]",
      "text/plain": [
       "<Figure size 720x360 with 14 Axes>"
      ]
     },
     "metadata": {
      "needs_background": "light"
     },
     "output_type": "display_data"
    }
   ],
   "source": [
    "utils.display_conv_pool(x, [relu, maxpool], network_id=0)"
   ]
  },
  {
   "cell_type": "code",
   "execution_count": 150,
   "metadata": {},
   "outputs": [
    {
     "data": {
      "image/png": "[encoded data removed]",
      "text/plain": [
       "<Figure size 720x360 with 14 Axes>"
      ]
     },
     "metadata": {
      "needs_background": "light"
     },
     "output_type": "display_data"
    }
   ],
   "source": [
    "utils.display_conv_pool(x, [tanh, maxpool], network_id=1)"
   ]
  },
  {
   "cell_type": "markdown",
   "metadata": {},
   "source": [
    "#### Average Pooling"
   ]
  },
  {
   "cell_type": "code",
   "execution_count": 151,
   "metadata": {},
   "outputs": [],
   "source": [
    "avgpool = AveragePooling2D(pool_size=(2, 2))"
   ]
  },
  {
   "cell_type": "code",
   "execution_count": 152,
   "metadata": {},
   "outputs": [
    {
     "data": {
      "image/png": "[encoded data removed]",
      "text/plain": [
       "<Figure size 720x360 with 14 Axes>"
      ]
     },
     "metadata": {
      "needs_background": "light"
     },
     "output_type": "display_data"
    }
   ],
   "source": [
    "utils.display_conv_pool(x, [relu, avgpool], network_id=2)"
   ]
  },
  {
   "cell_type": "code",
   "execution_count": 153,
   "metadata": {},
   "outputs": [
    {
     "data": {
      "image/png": "[encoded data removed]",
      "text/plain": [
       "<Figure size 720x360 with 14 Axes>"
      ]
     },
     "metadata": {
      "needs_background": "light"
     },
     "output_type": "display_data"
    }
   ],
   "source": [
    "utils.display_conv_pool(x, [tanh, avgpool], network_id=3)"
   ]
  },
  {
   "cell_type": "markdown",
   "metadata": {},
   "source": [
    "### Adding Layers"
   ]
  },
  {
   "cell_type": "code",
   "execution_count": 154,
   "metadata": {},
   "outputs": [],
   "source": [
    "relu = Conv2D(filters=6, kernel_size=3, padding='same', activation='relu')\n",
    "tanh = Conv2D(filters=6, kernel_size=3, padding='same', activation='tanh')"
   ]
  },
  {
   "cell_type": "code",
   "execution_count": 155,
   "metadata": {},
   "outputs": [
    {
     "data": {
      "image/png": "[encoded data removed]",
      "text/plain": [
       "<Figure size 720x360 with 20 Axes>"
      ]
     },
     "metadata": {
      "needs_background": "light"
     },
     "output_type": "display_data"
    }
   ],
   "source": [
    "utils.display_conv_pool(x, [tanh, maxpool, relu], network_id=4)"
   ]
  },
  {
   "cell_type": "code",
   "execution_count": 156,
   "metadata": {},
   "outputs": [
    {
     "data": {
      "image/png": "[encoded data removed]",
      "text/plain": [
       "<Figure size 720x360 with 66 Axes>"
      ]
     },
     "metadata": {
      "needs_background": "light"
     },
     "output_type": "display_data"
    }
   ],
   "source": [
    "maxpool = MaxPooling2D(pool_size=(2, 2))\n",
    "relu1 = Conv2D(filters=8, kernel_size=3, padding='same', activation='relu')\n",
    "relu2 = Conv2D(filters=16, kernel_size=3, padding='same', activation='relu')\n",
    "relu3 = Conv2D(filters=16, kernel_size=3, activation='relu')\n",
    "utils.display_conv_pool(x, [relu1, maxpool, relu2, relu3, maxpool], network_id=5)"
   ]
  },
  {
   "cell_type": "markdown",
   "metadata": {},
   "source": [
    "A common CNN feature learning architecture is similar to that shown above, where feature maps are constructed with ReLU-activated convolutional layers and intermittent max pooling. It's also fairly common to normalize the batch of input layers prior to convolution in the feature learning segment."
   ]
  },
  {
   "cell_type": "markdown",
   "metadata": {},
   "source": [
    "## Classification\n",
    "\n",
    "In the classification segment of the network, we flatten the final laywe shift our focus to classification using fully connected (FC) layers.\n",
    "\n",
    "### Fully Connected (FC) Layers"
   ]
  },
  {
   "cell_type": "code",
   "execution_count": 157,
   "metadata": {},
   "outputs": [
    {
     "ename": "AttributeError",
     "evalue": "module 'src.utils' has no attribute 'Load'",
     "output_type": "error",
     "traceback": [
      "\u001b[0;31m---------------------------------------------------------------------------\u001b[0m",
      "\u001b[0;31mAttributeError\u001b[0m                            Traceback (most recent call last)",
      "\u001b[0;32m<ipython-input-157-61163c6b0517>\u001b[0m in \u001b[0;36m<module>\u001b[0;34m\u001b[0m\n\u001b[0;32m----> 1\u001b[0;31m \u001b[0mx_train\u001b[0m\u001b[0;34m,\u001b[0m \u001b[0my_train\u001b[0m\u001b[0;34m,\u001b[0m \u001b[0mx_test\u001b[0m\u001b[0;34m,\u001b[0m \u001b[0my_test\u001b[0m\u001b[0;34m,\u001b[0m \u001b[0minput_shape\u001b[0m \u001b[0;34m=\u001b[0m \u001b[0mutils\u001b[0m\u001b[0;34m.\u001b[0m\u001b[0mLoad\u001b[0m\u001b[0;34m(\u001b[0m\u001b[0mmethod\u001b[0m\u001b[0;34m=\u001b[0m\u001b[0;34m'keras'\u001b[0m\u001b[0;34m)\u001b[0m\u001b[0;34m.\u001b[0m\u001b[0mmnist\u001b[0m\u001b[0;34m(\u001b[0m\u001b[0;34m)\u001b[0m\u001b[0;34m\u001b[0m\u001b[0;34m\u001b[0m\u001b[0m\n\u001b[0m\u001b[1;32m      2\u001b[0m \u001b[0mx_train\u001b[0m \u001b[0;34m=\u001b[0m \u001b[0mK\u001b[0m\u001b[0;34m.\u001b[0m\u001b[0meval\u001b[0m\u001b[0;34m(\u001b[0m\u001b[0mx_train\u001b[0m\u001b[0;34m)\u001b[0m\u001b[0;34m\u001b[0m\u001b[0;34m\u001b[0m\u001b[0m\n\u001b[1;32m      3\u001b[0m \u001b[0my_train\u001b[0m \u001b[0;34m=\u001b[0m \u001b[0mK\u001b[0m\u001b[0;34m.\u001b[0m\u001b[0meval\u001b[0m\u001b[0;34m(\u001b[0m\u001b[0my_train\u001b[0m\u001b[0;34m)\u001b[0m\u001b[0;34m\u001b[0m\u001b[0;34m\u001b[0m\u001b[0m\n\u001b[1;32m      4\u001b[0m \u001b[0mx_test\u001b[0m \u001b[0;34m=\u001b[0m \u001b[0mK\u001b[0m\u001b[0;34m.\u001b[0m\u001b[0meval\u001b[0m\u001b[0;34m(\u001b[0m\u001b[0mx_test\u001b[0m\u001b[0;34m)\u001b[0m\u001b[0;34m\u001b[0m\u001b[0;34m\u001b[0m\u001b[0m\n\u001b[1;32m      5\u001b[0m \u001b[0my_test\u001b[0m \u001b[0;34m=\u001b[0m \u001b[0mK\u001b[0m\u001b[0;34m.\u001b[0m\u001b[0meval\u001b[0m\u001b[0;34m(\u001b[0m\u001b[0my_test\u001b[0m\u001b[0;34m)\u001b[0m\u001b[0;34m\u001b[0m\u001b[0;34m\u001b[0m\u001b[0m\n",
      "\u001b[0;31mAttributeError\u001b[0m: module 'src.utils' has no attribute 'Load'"
     ]
    }
   ],
   "source": [
    "x_train, y_train, x_test, y_test, input_shape = utils.Load(method='keras').mnist()\n",
    "x_train = K.eval(x_train)\n",
    "y_train = K.eval(y_train)\n",
    "x_test = K.eval(x_test)\n",
    "y_test = K.eval(y_test)"
   ]
  },
  {
   "cell_type": "markdown",
   "metadata": {},
   "source": [
    "$$\\begin{aligned} \\underset{30 \\times 30 \\times 1}{ \\ \\ \\textsf{input}^+} \\ \\ _{\\circledast \\ \\ \\text{conv}_{3 \\times 3} \\ + \\ \\text{ReLU} \\ \\ \\longmapsto} \\ \\ \\underset{30 \\times 30 \\times 32}{ \\ \\ \\textsf{conv1}^+} \\ \\ _{\\circledast \\ \\ \\text{conv}_{3 \\times 3} \\ + \\ \\text{ReLU} \\ \\ \\longmapsto} \\ \\ \\underset{28 \\times 28 \\times 64}{\\textsf{conv2}} \\ \\ _{ \\ast \\ \\ \\text{max pool}_{2 \\times 2} \\ \\ \\longmapsto}\\\\[5pt]\n",
    "\\underset{16 \\times 16 \\times 64}{ \\, \\ \\textsf{pool1}^\\ddagger} \\ \\ _{\\circledast \\ \\ \\text{conv}_{3 \\times 3} \\ + \\ \\text{ReLU} \\ \\ \\longmapsto} \\ \\ \\underset{14 \\times 14 \\times 64}{\\textsf{conv3}} \\ \\ _{ \\ast \\ \\ \\text{max pool}_{2 \\times 2} \\ \\ \\longmapsto} \\ \\ \\underset{8 \\times 8 \\times 64}{ \\, \\ \\textsf{pool2}^\\ddagger} \\ \\ _{\\circledast \\ \\ \\text{conv}_{3 \\times 3} \\ + \\ \\text{ReLU} \\ \\ \\longmapsto}\\\\[5pt]\n",
    "\\underset{7 \\times 7 \\times 64}{ \\, \\ \\textsf{conv4}^\\dagger} \\ \\ _{\\circledast \\ \\ \\text{conv}_{3 \\times 3} \\ + \\ \\text{ReLU} \\ \\ \\longmapsto} \\ \\ \\underset{5 \\times 5 \\times 64}{ \\, \\ \\textsf{conv5}^\\dagger} \\ \\ _{ + \\ \\ \\text{flatten}_{1600} \\ + \\ \\text{dropout}_{0.25} \\ + \\ \\text{dense}_{128} \\ + \\ \\text{ReLU} \\ \\ \\longmapsto}\\\\[10pt]\n",
    "\\underset{1 \\times 1 \\times 128}{\\textsf{FC6}} \\ \\ _{ + \\ \\ \\text{dropout}_{0.5} \\ + \\ \\text{dense}_{128} \\ + \\ \\text{ReLU} \\ \\ \\longmapsto} \\ \\ \\underset{1 \\times 1 \\times 128}{\\textsf{FC7}} \\ \\ _{ + \\ \\ \\text{dropout}_{0.5} \\ + \\ \\text{dense}_{10} \\ + \\ \\text{Softmax} \\ \\ \\longmapsto} \\ \\ \\underset{1 \\times 1 \\times 10}{\\textsf{output}} \\end{aligned}$$"
   ]
  },
  {
   "cell_type": "markdown",
   "metadata": {},
   "source": [
    "Here, we introduce FC layers by building a network beginning with feature learning. We initialize a Keras sequential model object as follows:"
   ]
  },
  {
   "cell_type": "code",
   "execution_count": 176,
   "metadata": {},
   "outputs": [],
   "source": [
    "model = Sequential()"
   ]
  },
  {
   "cell_type": "code",
   "execution_count": 195,
   "metadata": {},
   "outputs": [
    {
     "name": "stdout",
     "output_type": "stream",
     "text": [
      "[TensorShape([1, 28, 28, 1]), 784, 0]\n",
      "[TensorShape([1, 28, 28, 32]), 25088, 288]\n",
      "[TensorShape([1, 28, 28, 64]), 50176, 18432]\n",
      "[TensorShape([1, 14, 14, 64]), 12544, 0]\n",
      "[TensorShape([1, 14, 14, 64]), 12544, 36864]\n",
      "[TensorShape([1, 7, 7, 64]), 3136, 0]\n",
      "[TensorShape([1, 7, 7, 64]), 3136, 36864]\n",
      "[TensorShape([1, 5, 5, 64]), 1600, 36864]\n",
      "[TensorShape([1, 128]), 128, 204800]\n",
      "[TensorShape([1, 128]), 128, 16384]\n",
      "[TensorShape([1, 10]), 10, 1280]\n",
      "Model: \"sequential_10\"\n",
      "_________________________________________________________________\n",
      "Layer (type)                 Output Shape              Param #   \n",
      "=================================================================\n",
      "conv2d_162 (Conv2D)          (None, 28, 28, 32)        320       \n",
      "_________________________________________________________________\n",
      "conv2d_163 (Conv2D)          (None, 28, 28, 64)        18496     \n",
      "_________________________________________________________________\n",
      "max_pooling2d_49 (MaxPooling (None, 14, 14, 64)        0         \n",
      "_________________________________________________________________\n",
      "batch_normalization_33 (Batc (None, 14, 14, 64)        256       \n",
      "_________________________________________________________________\n",
      "conv2d_164 (Conv2D)          (None, 14, 14, 64)        36928     \n",
      "_________________________________________________________________\n",
      "max_pooling2d_50 (MaxPooling (None, 7, 7, 64)          0         \n",
      "_________________________________________________________________\n",
      "batch_normalization_34 (Batc (None, 7, 7, 64)          256       \n",
      "_________________________________________________________________\n",
      "conv2d_165 (Conv2D)          (None, 7, 7, 64)          36928     \n",
      "_________________________________________________________________\n",
      "batch_normalization_35 (Batc (None, 7, 7, 64)          256       \n",
      "_________________________________________________________________\n",
      "conv2d_166 (Conv2D)          (None, 5, 5, 64)          36928     \n",
      "_________________________________________________________________\n",
      "batch_normalization_36 (Batc (None, 5, 5, 64)          256       \n",
      "_________________________________________________________________\n",
      "flatten_8 (Flatten)          (None, 1600)              0         \n",
      "_________________________________________________________________\n",
      "dropout_22 (Dropout)         (None, 1600)              0         \n",
      "_________________________________________________________________\n",
      "dense_22 (Dense)             (None, 128)               204928    \n",
      "_________________________________________________________________\n",
      "dropout_23 (Dropout)         (None, 128)               0         \n",
      "_________________________________________________________________\n",
      "dense_23 (Dense)             (None, 128)               16512     \n",
      "_________________________________________________________________\n",
      "dropout_24 (Dropout)         (None, 128)               0         \n",
      "_________________________________________________________________\n",
      "dense_24 (Dense)             (None, 10)                1290      \n",
      "=================================================================\n",
      "Total params: 353,354\n",
      "Trainable params: 352,842\n",
      "Non-trainable params: 512\n",
      "_________________________________________________________________\n"
     ]
    }
   ],
   "source": [
    "c1 = 32\n",
    "c2 = 64\n",
    "c3 = 64\n",
    "c4 = 64\n",
    "c5 = 64\n",
    "\n",
    "d1 = 128\n",
    "d2 = 128\n",
    "d3 = 10\n",
    "do1 = 0.25\n",
    "do2 = 0.5\n",
    "do3 = 0.5\n",
    "\n",
    "model = Sequential()\n",
    "p = []\n",
    "\n",
    "p += [x.shape, np.array(x.shape).prod(), 0]; print(p[-3:])\n",
    "model.add(Conv2D(c1, 3, padding='same', activation='relu', input_shape=(28, 28, 1)))\n",
    "p += [model(x).shape, np.array(model(x).shape).prod(), 3*3*1*c1]; print(p[-3:])\n",
    "model.add(Conv2D(c2, 3, padding='same', activation='relu'))\n",
    "p += [model(x).shape, np.array(model(x).shape).prod(), 3*3*c1*c2]; print(p[-3:])\n",
    "model.add(MaxPooling2D(pool_size=(2, 2)))\n",
    "model.add(BatchNormalization())\n",
    "p += [model(x).shape, np.array(model(x).shape).prod(), 0]; print(p[-3:])\n",
    "\n",
    "model.add(Conv2D(c3, kernel_size=3, padding='same', activation='relu'))\n",
    "p += [model(x).shape, np.array(model(x).shape).prod(), 3*3*c2*c3]; print(p[-3:])\n",
    "model.add(MaxPooling2D(pool_size=(2, 2)))\n",
    "model.add(BatchNormalization())\n",
    "p += [model(x).shape, np.array(model(x).shape).prod(), 0]; print(p[-3:])\n",
    "model.add(Conv2D(c4, kernel_size=3, padding='same', activation='relu'))\n",
    "model.add(BatchNormalization())\n",
    "p += [model(x).shape, np.array(model(x).shape).prod(), 3*3*c3*c4]; print(p[-3:])\n",
    "\n",
    "model.add(Conv2D(c5, kernel_size=3, activation='relu'))\n",
    "model.add(BatchNormalization())\n",
    "p += [model(x).shape, np.array(model(x).shape).prod(), 3*3*c4*c5]; print(p[-3:])\n",
    "model.add(Flatten())\n",
    "model.add(Dropout(do1))\n",
    "model.add(Dense(d1, activation='relu'))\n",
    "p += [model(x).shape, np.array(model(x).shape).prod(), 5*5*c5*d1]; print(p[-3:])\n",
    "\n",
    "model.add(Dropout(do2))\n",
    "model.add(Dense(d2, activation='relu'))\n",
    "p += [model(x).shape, np.array(model(x).shape).prod(), d1*d2]; print(p[-3:])\n",
    "model.add(Dropout(do3))\n",
    "model.add(Dense(d3, activation='softmax'))\n",
    "p += [model(x).shape, np.array(model(x).shape).prod(), d2*d3]; print(p[-3:])\n",
    "model.summary()"
   ]
  },
  {
   "cell_type": "code",
   "execution_count": 194,
   "metadata": {},
   "outputs": [
    {
     "data": {
      "text/plain": [
       "-1578"
      ]
     },
     "execution_count": 194,
     "metadata": {},
     "output_type": "execute_result"
    }
   ],
   "source": [
    "np.sum(p[2::3])-353354\n",
    "# np.sum(p[2::3])-352842"
   ]
  },
  {
   "cell_type": "markdown",
   "metadata": {},
   "source": [
    "Beginning with the architecture\n",
    "\n",
    "$$\\underset{30 \\times 30 \\times 1}{ \\ \\ \\textsf{input}^+} \\ \\ _{\\circledast \\ \\ \\text{conv}_{3 \\times 3} \\ + \\ \\text{ReLU} \\ \\ \\longmapsto} \\ \\ \\underset{30 \\times 30 \\times 32}{ \\ \\ \\textsf{conv1}^+} \\ \\ _{\\circledast \\ \\ \\text{conv}_{3 \\times 3} \\ + \\ \\text{ReLU} \\ \\ \\longmapsto} \\ \\ \\underset{28 \\times 28 \\times 64}{\\textsf{conv2}} \\ \\ _{ \\ast \\ \\ \\text{max pool}_{2 \\times 2} \\ \\ \\longmapsto} \\ \\ \\underset{16 \\times 16 \\times 64}{ \\, \\ \\textsf{pool1}^\\ddagger}$$\n",
    "\n",
    "we add layers as follows:"
   ]
  },
  {
   "cell_type": "code",
   "execution_count": 178,
   "metadata": {},
   "outputs": [
    {
     "name": "stdout",
     "output_type": "stream",
     "text": [
      "(1, 28, 28, 1) 784 0\n",
      "(1, 28, 28, 32) 25088 288\n",
      "(1, 28, 28, 64) 50176 18432\n",
      "(1, 14, 14, 64) 12544 0\n"
     ]
    }
   ],
   "source": [
    "import numpy as np\n",
    "print(x.shape, np.array(x.shape).prod(), 0)\n",
    "model.add(Conv2D(c1, 3, padding='same', activation='relu', input_shape=(30, 30, 1)))\n",
    "print(model(x).shape, np.array(model(x).shape).prod(), 3*3*1*c1)\n",
    "model.add(Conv2D(c2, 3, padding='same', activation='relu'))\n",
    "print(model(x).shape, np.array(model(x).shape).prod(), 3*3*c1*c2)\n",
    "model.add(MaxPooling2D(pool_size=(2, 2)))\n",
    "model.add(BatchNormalization())\n",
    "print(model(x).shape, np.array(model(x).shape).prod(), 0)"
   ]
  },
  {
   "cell_type": "markdown",
   "metadata": {},
   "source": [
    "$$\\underset{16 \\times 16 \\times 64}{ \\, \\ \\textsf{pool1}^\\ddagger} \\ \\ _{\\circledast \\ \\ \\text{conv}_{3 \\times 3} \\ + \\ \\text{ReLU} \\ \\ \\longmapsto} \\ \\ \\underset{14 \\times 14 \\times 64}{\\textsf{conv3}} \\ \\ _{ \\ast \\ \\ \\text{max pool}_{2 \\times 2} \\ \\ \\longmapsto} \\ \\ \\underset{8 \\times 8 \\times 64}{ \\, \\ \\textsf{pool2}^\\ddagger} \\ \\ _{\\circledast \\ \\ \\text{conv}_{3 \\times 3} \\ + \\ \\text{ReLU} \\ \\ \\longmapsto} \\ \\ \\underset{7 \\times 7 \\times 64}{ \\, \\ \\textsf{conv4}^\\dagger}$$"
   ]
  },
  {
   "cell_type": "code",
   "execution_count": 179,
   "metadata": {},
   "outputs": [
    {
     "name": "stdout",
     "output_type": "stream",
     "text": [
      "(1, 14, 14, 64) 12544 36864\n",
      "(1, 7, 7, 64) 3136 0\n",
      "(1, 7, 7, 64) 3136 36864\n"
     ]
    }
   ],
   "source": [
    "model.add(Conv2D(c3, kernel_size=3, padding='same', activation='relu'))\n",
    "print(model(x).shape, np.array(model(x).shape).prod(), 3*3*c2*c3)\n",
    "model.add(MaxPooling2D(pool_size=(2, 2)))\n",
    "model.add(BatchNormalization())\n",
    "print(model(x).shape, np.array(model(x).shape).prod(), 0)\n",
    "model.add(Conv2D(c4, kernel_size=3, padding='same', activation='relu'))\n",
    "model.add(BatchNormalization())\n",
    "print(model(x).shape, np.array(model(x).shape).prod(), 3*3*c3*c4)"
   ]
  },
  {
   "cell_type": "markdown",
   "metadata": {},
   "source": [
    "Here we switch over to classification by vectorizing `conv5` as follows:"
   ]
  },
  {
   "cell_type": "markdown",
   "metadata": {},
   "source": [
    "$$\\underset{7 \\times 7 \\times 64}{ \\, \\ \\textsf{conv4}^\\dagger} \\ \\ _{\\circledast \\ \\ \\text{conv}_{3 \\times 3} \\ + \\ \\text{ReLU} \\ \\ \\longmapsto} \\ \\ \\underset{5 \\times 5 \\times 64}{ \\, \\ \\textsf{conv5}^\\dagger} \\ \\ _{ + \\ \\ \\text{flatten}_{1600} \\ + \\ \\text{dropout}_{0.25} \\ + \\ \\text{dense}_{156} \\ + \\ \\text{ReLU} \\ \\ \\longmapsto} \\ \\ \\underset{1 \\times 1 \\times 156}{\\textsf{FC6}}$$"
   ]
  },
  {
   "cell_type": "code",
   "execution_count": 180,
   "metadata": {},
   "outputs": [
    {
     "name": "stdout",
     "output_type": "stream",
     "text": [
      "(1, 5, 5, 64) 1600 36864\n",
      "(1, 128) 128 204800\n"
     ]
    }
   ],
   "source": [
    "model.add(Conv2D(c5, kernel_size=3, activation='relu'))\n",
    "model.add(BatchNormalization())\n",
    "print(model(x).shape, np.array(model(x).shape).prod(), 3*3*c4*c5)\n",
    "model.add(Flatten())\n",
    "model.add(Dropout(do1))\n",
    "model.add(Dense(d1, activation='relu'))\n",
    "print(model(x).shape, np.array(model(x).shape).prod(), 5*5*c5*d1)"
   ]
  },
  {
   "cell_type": "markdown",
   "metadata": {},
   "source": [
    "$$\\underset{1 \\times 1 \\times 156}{\\textsf{FC6}} \\ \\ _{ + \\ \\text{dropout}_{0.5} \\ + \\ \\text{dense}_{156} \\ + \\ \\text{ReLU} \\ \\ \\longmapsto} \\ \\ \\underset{1 \\times 1 \\times 156}{\\textsf{FC7}} \\ \\ _{ + \\ \\text{dropout}_{0.5} \\ + \\ \\text{dense}_{10} \\ + \\ \\text{Softmax} \\ \\ \\longmapsto} \\ \\ \\underset{1 \\times 1 \\times 10}{\\textsf{output}}$$"
   ]
  },
  {
   "cell_type": "code",
   "execution_count": 181,
   "metadata": {},
   "outputs": [
    {
     "name": "stdout",
     "output_type": "stream",
     "text": [
      "(1, 128) 128 16384\n",
      "(1, 10) 10 1280\n"
     ]
    }
   ],
   "source": [
    "model.add(Dropout(do2))\n",
    "model.add(Dense(d2, activation='relu'))\n",
    "print(model(x).shape, np.array(model(x).shape).prod(), d1*d2)\n",
    "model.add(Dropout(do3))\n",
    "model.add(Dense(d3, activation='softmax'))\n",
    "print(model(x).shape, np.array(model(x).shape).prod(), d2*d3)"
   ]
  },
  {
   "cell_type": "markdown",
   "metadata": {},
   "source": [
    "As shown above, the final fully connected layer `FC3` is vector of length 10. Also note that the number of elements in the final layer should be equal to the number of classes we aim to predict (10 for the MNIST dataset)."
   ]
  },
  {
   "cell_type": "code",
   "execution_count": null,
   "metadata": {},
   "outputs": [],
   "source": [
    "model.compile(loss=categorical_crossentropy, optimizer=Adadelta(),\n",
    "              metrics=['accuracy'])"
   ]
  },
  {
   "cell_type": "markdown",
   "metadata": {},
   "source": [
    "INPUT: [224x224x3] memory: 224*224*3=150K params: 0\n",
    "\n",
    "CONV3-64: [224x224x64] memory: 224*224*64=3.2M params: (3*3*3)*64 = 1,728\n",
    "\n",
    "CONV3-64: [224x224x64] memory: 224*224*64=3.2M params: (3*3*64)*64 = 36,864\n",
    "\n",
    "POOL2: [112x112x64] memory: 112*112*64=800K params: 0\n",
    "\n",
    "CONV3-128: [112x112x128] memory: 112*112*128=1.6M params: (3*3*64)*128 = 73,728\n",
    "\n",
    "CONV3-128: [112x112x128] memory: 112*112*128=1.6M params: (3*3*128)*128 = 147,456\n",
    "\n",
    "POOL2: [56x56x128] memory: 56*56*128=400K params: 0\n",
    "\n",
    "CONV3-256: [56x56x256] memory: 56*56*256=800K params: (3*3*128)*256 = 294,912\n",
    "\n",
    "CONV3-256: [56x56x256] memory: 56*56*256=800K params: (3*3*256)*256 = 589,824\n",
    "\n",
    "CONV3-256: [56x56x256] memory: 56*56*256=800K params: (3*3*256)*256 = 589,824\n",
    "\n",
    "POOL2: [28x28x256] memory: 28*28*256=200K params: 0\n",
    "\n",
    "CONV3-512: [28x28x512] memory: 28*28*512=400K params: (3*3*256)*512 = 1,179,648\n",
    "\n",
    "CONV3-512: [28x28x512] memory: 28*28*512=400K params: (3*3*512)*512 = 2,359,296\n",
    "\n",
    "CONV3-512: [28x28x512] memory: 28*28*512=400K params: (3*3*512)*512 = 2,359,296\n",
    "\n",
    "POOL2: [14x14x512] memory: 14*14*512=100K params: 0\n",
    "\n",
    "CONV3-512: [14x14x512] memory: 14*14*512=100K params: (3*3*512)*512 = 2,359,296\n",
    "\n",
    "CONV3-512: [14x14x512] memory: 14*14*512=100K params: (3*3*512)*512 = 2,359,296\n",
    "\n",
    "CONV3-512: [14x14x512] memory: 14*14*512=100K params: (3*3*512)*512 = 2,359,296\n",
    "\n",
    "POOL2: [7x7x512] memory: 7*7*512=25K params: 0\n",
    "\n",
    "FC: [1x1x4096] memory: 4096 params: 7*7*512*4096 = 102,760,448\n",
    "\n",
    "FC: [1x1x4096] memory: 4096 params: 4096*4096 = 16,777,216\n",
    "\n",
    "FC: [1x1x1000] memory: 1000 params: 4096*1000 = 4,096,000\n",
    "\n",
    "\n",
    "Inception - 22 layers --> 5 million params\n",
    "AlexNet - 60 million params"
   ]
  },
  {
   "cell_type": "code",
   "execution_count": null,
   "metadata": {},
   "outputs": [],
   "source": [
    "from keras.callbacks import EarlyStopping\n",
    "early_stopping = EarlyStopping(monitor='val_loss', patience=2)\n",
    "model.fit(x, y, validation_split=0.2, callbacks=[early_stopping])"
   ]
  },
  {
   "cell_type": "code",
   "execution_count": 125,
   "metadata": {},
   "outputs": [
    {
     "name": "stdout",
     "output_type": "stream",
     "text": [
      "Train on 60000 samples, validate on 10000 samples\n",
      "Epoch 1/15\n",
      "60000/60000 [==============================] - 187s 3ms/step - loss: 0.3284 - accuracy: 0.9037 - val_loss: 0.0919 - val_accuracy: 0.9787\n",
      "Epoch 2/15\n",
      "60000/60000 [==============================] - 183s 3ms/step - loss: 0.1043 - accuracy: 0.9749 - val_loss: 0.0379 - val_accuracy: 0.9888\n",
      "Epoch 3/15\n",
      "60000/60000 [==============================] - 183s 3ms/step - loss: 0.0719 - accuracy: 0.9825 - val_loss: 0.0594 - val_accuracy: 0.9868\n",
      "Epoch 4/15\n",
      "60000/60000 [==============================] - 183s 3ms/step - loss: 0.0576 - accuracy: 0.9865 - val_loss: 0.0324 - val_accuracy: 0.9922\n",
      "Epoch 5/15\n",
      "60000/60000 [==============================] - 183s 3ms/step - loss: 0.0491 - accuracy: 0.9883 - val_loss: 0.0255 - val_accuracy: 0.9934\n",
      "Epoch 6/15\n",
      "60000/60000 [==============================] - 184s 3ms/step - loss: 0.0430 - accuracy: 0.9907 - val_loss: 0.0296 - val_accuracy: 0.9935\n",
      "Epoch 7/15\n",
      "60000/60000 [==============================] - 184s 3ms/step - loss: 0.0380 - accuracy: 0.9911 - val_loss: 0.0354 - val_accuracy: 0.9922\n",
      "Epoch 8/15\n",
      "60000/60000 [==============================] - 184s 3ms/step - loss: 0.0333 - accuracy: 0.9920 - val_loss: 0.0316 - val_accuracy: 0.9932\n",
      "Epoch 9/15\n",
      "60000/60000 [==============================] - 184s 3ms/step - loss: 0.0291 - accuracy: 0.9929 - val_loss: 0.0314 - val_accuracy: 0.9941\n",
      "Epoch 10/15\n",
      "60000/60000 [==============================] - 183s 3ms/step - loss: 0.0282 - accuracy: 0.9937 - val_loss: 0.0250 - val_accuracy: 0.9948\n",
      "Epoch 11/15\n",
      "60000/60000 [==============================] - 183s 3ms/step - loss: 0.0234 - accuracy: 0.9947 - val_loss: 0.0348 - val_accuracy: 0.9943\n",
      "Epoch 12/15\n",
      "60000/60000 [==============================] - 183s 3ms/step - loss: 0.0213 - accuracy: 0.9952 - val_loss: 0.0509 - val_accuracy: 0.9922\n",
      "Epoch 13/15\n",
      "60000/60000 [==============================] - 183s 3ms/step - loss: 0.0218 - accuracy: 0.9950 - val_loss: 0.0337 - val_accuracy: 0.9944\n",
      "Epoch 14/15\n",
      "60000/60000 [==============================] - 183s 3ms/step - loss: 0.0211 - accuracy: 0.9952 - val_loss: 0.0338 - val_accuracy: 0.9939\n",
      "Epoch 15/15\n",
      "60000/60000 [==============================] - 183s 3ms/step - loss: 0.0159 - accuracy: 0.9962 - val_loss: 0.0407 - val_accuracy: 0.9949\n"
     ]
    },
    {
     "data": {
      "text/plain": [
       "<keras.callbacks.callbacks.History at 0x726edbad0>"
      ]
     },
     "execution_count": 125,
     "metadata": {},
     "output_type": "execute_result"
    }
   ],
   "source": [
    "model.fit(x_train, y_train,\n",
    "          batch_size=128,\n",
    "          epochs=15,\n",
    "          verbose=1,\n",
    "          validation_data=(x_test, y_test))"
   ]
  },
  {
   "cell_type": "code",
   "execution_count": 126,
   "metadata": {},
   "outputs": [
    {
     "name": "stdout",
     "output_type": "stream",
     "text": [
      "Test loss: 0.040706228391430906\n",
      "Test accuracy: 0.9948999881744385\n"
     ]
    }
   ],
   "source": [
    "score = model.evaluate(x_test, y_test, verbose=0)\n",
    "print('Test loss:', score[0])\n",
    "print('Test accuracy:', score[1])"
   ]
  },
  {
   "cell_type": "markdown",
   "metadata": {},
   "source": [
    "original\n",
    "\n",
    "113s 2ms/step - loss: 0.0530 - accuracy: 0.9835 - val_loss: 0.0639 - val_accuracy: 0.9782\n",
    "\n",
    "115s 2ms/step - loss: 0.0337 - accuracy: 0.9892 - val_loss: 0.0475 - val_accuracy: 0.9870\n",
    "\n",
    "256\n",
    "\n",
    "167s 3ms/step - loss: 0.2934 - accuracy: 0.9114 - val_loss: 7.5777 - val_accuracy: 0.1166\n",
    "\n",
    "161s 3ms/step - loss: 0.0884 - accuracy: 0.9755 - val_loss: 0.0834 - val_accuracy: 0.9783\n",
    "\n",
    "128\n",
    "\n",
    "188s 3ms/step - loss: 0.3267 - accuracy: 0.9015 - val_loss: 0.3100 - val_accuracy: 0.9204\n",
    "\n",
    "183s 3ms/step - loss: 0.1045 - accuracy: 0.9734 - val_loss: 0.0640 - val_accuracy: 0.9855\n",
    "\n",
    "-1 Dense\n",
    "\n",
    "186s 3ms/step - loss: 0.1903 - accuracy: 0.9442 - val_loss: 0.1231 - val_accuracy: 0.9664\n",
    "\n",
    "183s 3ms/step - loss: 0.0677 - accuracy: 0.9806 - val_loss: 0.0415 - val_accuracy: 0.9881\n",
    "\n",
    "256/128\n",
    "\n",
    "165s 3ms/step - loss: 0.3505 - accuracy: 0.8961 - val_loss: 1.1719 - val_accuracy: 0.6173\n",
    "\n",
    "163s 3ms/step - loss: 0.1006 - accuracy: 0.9738 - val_loss: 0.0863 - val_accuracy: 0.9747\n",
    "\n",
    "512/128\n",
    "\n",
    "168s 3ms/step - loss: 0.3064 - accuracy: 0.9092 - val_loss: 2.0981 - val_accuracy: 0.2137\n",
    "\n",
    "164s 3ms/step - loss: 0.0973 - accuracy: 0.9739 - val_loss: 0.1112 - val_accuracy: 0.9668\n",
    "\n",
    "256 (last dropout)\n",
    "\n",
    "165s 3ms/step - loss: 0.1644 - accuracy: 0.9507 - val_loss: 1.4443 - val_accuracy: 0.4905\n",
    "\n",
    "161s 3ms/step - loss: 0.0480 - accuracy: 0.9857 - val_loss: 0.0695 - val_accuracy: 0.9814\n",
    "\n",
    "256 (last dropout) -1 Dense\n",
    "\n",
    "166s 3ms/step - loss: 0.1675 - accuracy: 0.9505 - val_loss: 2.0227 - val_accuracy: 0.2638\n",
    "\n",
    "161s 3ms/step - loss: 0.0551 - accuracy: 0.9838 - val_loss: 0.1623 - val_accuracy: 0.9456\n"
   ]
  },
  {
   "cell_type": "code",
   "execution_count": null,
   "metadata": {},
   "outputs": [],
   "source": []
  },
  {
   "cell_type": "code",
   "execution_count": 39,
   "metadata": {},
   "outputs": [
    {
     "name": "stdout",
     "output_type": "stream",
     "text": [
      "x_train shape: (60000, 28, 28, 1)\n",
      "60000 train samples\n",
      "10000 test samples\n"
     ]
    }
   ],
   "source": [
    "# x_train, y_train, x_test, y_test, input_shape = utils.Load(method='keras').mnist()\n",
    "# x_train = K.eval(x_train)\n",
    "# y_train = K.eval(y_train)\n",
    "# x_test = K.eval(x_test)\n",
    "# y_test = K.eval(y_test)\n",
    "\n",
    "from keras.datasets import mnist\n",
    "\n",
    "batch_size = 128\n",
    "num_classes = 10\n",
    "epochs = 2\n",
    "\n",
    "# input image dimensions\n",
    "img_rows, img_cols = 28, 28\n",
    "\n",
    "# the data, split between train and test sets\n",
    "(x_train, y_train), (x_test, y_test) = mnist.load_data()\n",
    "\n",
    "if K.image_data_format() == 'channels_first':\n",
    "    x_train = x_train.reshape(x_train.shape[0], 1, img_rows, img_cols)\n",
    "    x_test = x_test.reshape(x_test.shape[0], 1, img_rows, img_cols)\n",
    "    input_shape = (1, img_rows, img_cols)\n",
    "else:\n",
    "    x_train = x_train.reshape(x_train.shape[0], img_rows, img_cols, 1)\n",
    "    x_test = x_test.reshape(x_test.shape[0], img_rows, img_cols, 1)\n",
    "    input_shape = (img_rows, img_cols, 1)\n",
    "\n",
    "x_train = x_train.astype('float32')\n",
    "x_test = x_test.astype('float32')\n",
    "x_train /= 255\n",
    "x_test /= 255\n",
    "print('x_train shape:', x_train.shape)\n",
    "print(x_train.shape[0], 'train samples')\n",
    "print(x_test.shape[0], 'test samples')\n",
    "\n",
    "# convert class vectors to binary class matrices\n",
    "y_train = keras.utils.to_categorical(y_train, num_classes)\n",
    "y_test = keras.utils.to_categorical(y_test, num_classes)"
   ]
  },
  {
   "cell_type": "code",
   "execution_count": 10,
   "metadata": {},
   "outputs": [
    {
     "data": {
      "text/plain": [
       "0.25"
      ]
     },
     "execution_count": 10,
     "metadata": {},
     "output_type": "execute_result"
    }
   ],
   "source": []
  },
  {
   "cell_type": "code",
   "execution_count": 4,
   "metadata": {},
   "outputs": [],
   "source": [
    "model.add(ZeroPadding2D(padding=(1, 1)))\n",
    "model.add(Conv2D(32, kernel_size=(3, 3),\n",
    "                 activation='relu',\n",
    "                 input_shape=(29, 29, 1)))\n",
    "model.add(Conv2D(64, (3, 3), activation='relu'))\n",
    "model.add(MaxPooling2D(pool_size=(2, 2)))\n",
    "model.add(Dropout(0.25))\n",
    "model.add(Flatten())\n",
    "model.add(Dense(128, activation='relu'))\n",
    "model.add(Dropout(0.5))\n",
    "model.add(Dense(10, activation='softmax'))"
   ]
  },
  {
   "cell_type": "code",
   "execution_count": null,
   "metadata": {},
   "outputs": [
    {
     "name": "stdout",
     "output_type": "stream",
     "text": [
      "Train on 60000 samples, validate on 10000 samples\n",
      "Epoch 1/5\n"
     ]
    }
   ],
   "source": [
    "# utils.fit(model, x_train, y_train, x_test, y_test)"
   ]
  },
  {
   "cell_type": "code",
   "execution_count": null,
   "metadata": {},
   "outputs": [],
   "source": [
    "score = model.evaluate(x_test, y_test, verbose=0)\n",
    "print('Test loss:', score[0])\n",
    "print('Test accuracy:', score[1])"
   ]
  },
  {
   "cell_type": "code",
   "execution_count": 1,
   "metadata": {},
   "outputs": [
    {
     "name": "stderr",
     "output_type": "stream",
     "text": [
      "Using TensorFlow backend.\n"
     ]
    },
    {
     "name": "stdout",
     "output_type": "stream",
     "text": [
      "x_train shape: (60000, 28, 28, 1)\n",
      "60000 train samples\n",
      "10000 test samples\n",
      "Train on 60000 samples, validate on 10000 samples\n",
      "Epoch 1/6\n",
      " 3584/60000 [>.............................] - ETA: 1:16 - loss: 1.3037 - accuracy: 0.5731"
     ]
    },
    {
     "ename": "KeyboardInterrupt",
     "evalue": "",
     "output_type": "error",
     "traceback": [
      "\u001b[0;31m---------------------------------------------------------------------------\u001b[0m",
      "\u001b[0;31mKeyboardInterrupt\u001b[0m                         Traceback (most recent call last)",
      "\u001b[0;32m<ipython-input-1-92f49eace347>\u001b[0m in \u001b[0;36m<module>\u001b[0;34m\u001b[0m\n\u001b[1;32m     57\u001b[0m           \u001b[0mepochs\u001b[0m\u001b[0;34m=\u001b[0m\u001b[0mepochs\u001b[0m\u001b[0;34m,\u001b[0m\u001b[0;34m\u001b[0m\u001b[0;34m\u001b[0m\u001b[0m\n\u001b[1;32m     58\u001b[0m           \u001b[0mverbose\u001b[0m\u001b[0;34m=\u001b[0m\u001b[0;36m1\u001b[0m\u001b[0;34m,\u001b[0m\u001b[0;34m\u001b[0m\u001b[0;34m\u001b[0m\u001b[0m\n\u001b[0;32m---> 59\u001b[0;31m           validation_data=(x_test, y_test))\n\u001b[0m\u001b[1;32m     60\u001b[0m \u001b[0mscore\u001b[0m \u001b[0;34m=\u001b[0m \u001b[0mmodel\u001b[0m\u001b[0;34m.\u001b[0m\u001b[0mevaluate\u001b[0m\u001b[0;34m(\u001b[0m\u001b[0mx_test\u001b[0m\u001b[0;34m,\u001b[0m \u001b[0my_test\u001b[0m\u001b[0;34m,\u001b[0m \u001b[0mverbose\u001b[0m\u001b[0;34m=\u001b[0m\u001b[0;36m0\u001b[0m\u001b[0;34m)\u001b[0m\u001b[0;34m\u001b[0m\u001b[0;34m\u001b[0m\u001b[0m\n\u001b[1;32m     61\u001b[0m \u001b[0mprint\u001b[0m\u001b[0;34m(\u001b[0m\u001b[0;34m'Test loss:'\u001b[0m\u001b[0;34m,\u001b[0m \u001b[0mscore\u001b[0m\u001b[0;34m[\u001b[0m\u001b[0;36m0\u001b[0m\u001b[0;34m]\u001b[0m\u001b[0;34m)\u001b[0m\u001b[0;34m\u001b[0m\u001b[0;34m\u001b[0m\u001b[0m\n",
      "\u001b[0;32m~/opt/anaconda3/lib/python3.7/site-packages/keras/engine/training.py\u001b[0m in \u001b[0;36mfit\u001b[0;34m(self, x, y, batch_size, epochs, verbose, callbacks, validation_split, validation_data, shuffle, class_weight, sample_weight, initial_epoch, steps_per_epoch, validation_steps, validation_freq, max_queue_size, workers, use_multiprocessing, **kwargs)\u001b[0m\n\u001b[1;32m   1237\u001b[0m                                         \u001b[0msteps_per_epoch\u001b[0m\u001b[0;34m=\u001b[0m\u001b[0msteps_per_epoch\u001b[0m\u001b[0;34m,\u001b[0m\u001b[0;34m\u001b[0m\u001b[0;34m\u001b[0m\u001b[0m\n\u001b[1;32m   1238\u001b[0m                                         \u001b[0mvalidation_steps\u001b[0m\u001b[0;34m=\u001b[0m\u001b[0mvalidation_steps\u001b[0m\u001b[0;34m,\u001b[0m\u001b[0;34m\u001b[0m\u001b[0;34m\u001b[0m\u001b[0m\n\u001b[0;32m-> 1239\u001b[0;31m                                         validation_freq=validation_freq)\n\u001b[0m\u001b[1;32m   1240\u001b[0m \u001b[0;34m\u001b[0m\u001b[0m\n\u001b[1;32m   1241\u001b[0m     def evaluate(self,\n",
      "\u001b[0;32m~/opt/anaconda3/lib/python3.7/site-packages/keras/engine/training_arrays.py\u001b[0m in \u001b[0;36mfit_loop\u001b[0;34m(model, fit_function, fit_inputs, out_labels, batch_size, epochs, verbose, callbacks, val_function, val_inputs, shuffle, initial_epoch, steps_per_epoch, validation_steps, validation_freq)\u001b[0m\n\u001b[1;32m    194\u001b[0m                     \u001b[0mins_batch\u001b[0m\u001b[0;34m[\u001b[0m\u001b[0mi\u001b[0m\u001b[0;34m]\u001b[0m \u001b[0;34m=\u001b[0m \u001b[0mins_batch\u001b[0m\u001b[0;34m[\u001b[0m\u001b[0mi\u001b[0m\u001b[0;34m]\u001b[0m\u001b[0;34m.\u001b[0m\u001b[0mtoarray\u001b[0m\u001b[0;34m(\u001b[0m\u001b[0;34m)\u001b[0m\u001b[0;34m\u001b[0m\u001b[0;34m\u001b[0m\u001b[0m\n\u001b[1;32m    195\u001b[0m \u001b[0;34m\u001b[0m\u001b[0m\n\u001b[0;32m--> 196\u001b[0;31m                 \u001b[0mouts\u001b[0m \u001b[0;34m=\u001b[0m \u001b[0mfit_function\u001b[0m\u001b[0;34m(\u001b[0m\u001b[0mins_batch\u001b[0m\u001b[0;34m)\u001b[0m\u001b[0;34m\u001b[0m\u001b[0;34m\u001b[0m\u001b[0m\n\u001b[0m\u001b[1;32m    197\u001b[0m                 \u001b[0mouts\u001b[0m \u001b[0;34m=\u001b[0m \u001b[0mto_list\u001b[0m\u001b[0;34m(\u001b[0m\u001b[0mouts\u001b[0m\u001b[0;34m)\u001b[0m\u001b[0;34m\u001b[0m\u001b[0;34m\u001b[0m\u001b[0m\n\u001b[1;32m    198\u001b[0m                 \u001b[0;32mfor\u001b[0m \u001b[0ml\u001b[0m\u001b[0;34m,\u001b[0m \u001b[0mo\u001b[0m \u001b[0;32min\u001b[0m \u001b[0mzip\u001b[0m\u001b[0;34m(\u001b[0m\u001b[0mout_labels\u001b[0m\u001b[0;34m,\u001b[0m \u001b[0mouts\u001b[0m\u001b[0;34m)\u001b[0m\u001b[0;34m:\u001b[0m\u001b[0;34m\u001b[0m\u001b[0;34m\u001b[0m\u001b[0m\n",
      "\u001b[0;32m~/opt/anaconda3/lib/python3.7/site-packages/tensorflow_core/python/keras/backend.py\u001b[0m in \u001b[0;36m__call__\u001b[0;34m(self, inputs)\u001b[0m\n\u001b[1;32m   3738\u001b[0m         \u001b[0mvalue\u001b[0m \u001b[0;34m=\u001b[0m \u001b[0mmath_ops\u001b[0m\u001b[0;34m.\u001b[0m\u001b[0mcast\u001b[0m\u001b[0;34m(\u001b[0m\u001b[0mvalue\u001b[0m\u001b[0;34m,\u001b[0m \u001b[0mtensor\u001b[0m\u001b[0;34m.\u001b[0m\u001b[0mdtype\u001b[0m\u001b[0;34m)\u001b[0m\u001b[0;34m\u001b[0m\u001b[0;34m\u001b[0m\u001b[0m\n\u001b[1;32m   3739\u001b[0m       \u001b[0mconverted_inputs\u001b[0m\u001b[0;34m.\u001b[0m\u001b[0mappend\u001b[0m\u001b[0;34m(\u001b[0m\u001b[0mvalue\u001b[0m\u001b[0;34m)\u001b[0m\u001b[0;34m\u001b[0m\u001b[0;34m\u001b[0m\u001b[0m\n\u001b[0;32m-> 3740\u001b[0;31m     \u001b[0moutputs\u001b[0m \u001b[0;34m=\u001b[0m \u001b[0mself\u001b[0m\u001b[0;34m.\u001b[0m\u001b[0m_graph_fn\u001b[0m\u001b[0;34m(\u001b[0m\u001b[0;34m*\u001b[0m\u001b[0mconverted_inputs\u001b[0m\u001b[0;34m)\u001b[0m\u001b[0;34m\u001b[0m\u001b[0;34m\u001b[0m\u001b[0m\n\u001b[0m\u001b[1;32m   3741\u001b[0m \u001b[0;34m\u001b[0m\u001b[0m\n\u001b[1;32m   3742\u001b[0m     \u001b[0;31m# EagerTensor.numpy() will often make a copy to ensure memory safety.\u001b[0m\u001b[0;34m\u001b[0m\u001b[0;34m\u001b[0m\u001b[0;34m\u001b[0m\u001b[0m\n",
      "\u001b[0;32m~/opt/anaconda3/lib/python3.7/site-packages/tensorflow_core/python/eager/function.py\u001b[0m in \u001b[0;36m__call__\u001b[0;34m(self, *args, **kwargs)\u001b[0m\n\u001b[1;32m   1079\u001b[0m       \u001b[0mTypeError\u001b[0m\u001b[0;34m:\u001b[0m \u001b[0mFor\u001b[0m \u001b[0minvalid\u001b[0m \u001b[0mpositional\u001b[0m\u001b[0;34m/\u001b[0m\u001b[0mkeyword\u001b[0m \u001b[0margument\u001b[0m \u001b[0mcombinations\u001b[0m\u001b[0;34m.\u001b[0m\u001b[0;34m\u001b[0m\u001b[0;34m\u001b[0m\u001b[0m\n\u001b[1;32m   1080\u001b[0m     \"\"\"\n\u001b[0;32m-> 1081\u001b[0;31m     \u001b[0;32mreturn\u001b[0m \u001b[0mself\u001b[0m\u001b[0;34m.\u001b[0m\u001b[0m_call_impl\u001b[0m\u001b[0;34m(\u001b[0m\u001b[0margs\u001b[0m\u001b[0;34m,\u001b[0m \u001b[0mkwargs\u001b[0m\u001b[0;34m)\u001b[0m\u001b[0;34m\u001b[0m\u001b[0;34m\u001b[0m\u001b[0m\n\u001b[0m\u001b[1;32m   1082\u001b[0m \u001b[0;34m\u001b[0m\u001b[0m\n\u001b[1;32m   1083\u001b[0m   \u001b[0;32mdef\u001b[0m \u001b[0m_call_impl\u001b[0m\u001b[0;34m(\u001b[0m\u001b[0mself\u001b[0m\u001b[0;34m,\u001b[0m \u001b[0margs\u001b[0m\u001b[0;34m,\u001b[0m \u001b[0mkwargs\u001b[0m\u001b[0;34m,\u001b[0m \u001b[0mcancellation_manager\u001b[0m\u001b[0;34m=\u001b[0m\u001b[0;32mNone\u001b[0m\u001b[0;34m)\u001b[0m\u001b[0;34m:\u001b[0m\u001b[0;34m\u001b[0m\u001b[0;34m\u001b[0m\u001b[0m\n",
      "\u001b[0;32m~/opt/anaconda3/lib/python3.7/site-packages/tensorflow_core/python/eager/function.py\u001b[0m in \u001b[0;36m_call_impl\u001b[0;34m(self, args, kwargs, cancellation_manager)\u001b[0m\n\u001b[1;32m   1119\u001b[0m       raise TypeError(\"Keyword arguments {} unknown. Expected {}.\".format(\n\u001b[1;32m   1120\u001b[0m           list(kwargs.keys()), list(self._arg_keywords)))\n\u001b[0;32m-> 1121\u001b[0;31m     \u001b[0;32mreturn\u001b[0m \u001b[0mself\u001b[0m\u001b[0;34m.\u001b[0m\u001b[0m_call_flat\u001b[0m\u001b[0;34m(\u001b[0m\u001b[0margs\u001b[0m\u001b[0;34m,\u001b[0m \u001b[0mself\u001b[0m\u001b[0;34m.\u001b[0m\u001b[0mcaptured_inputs\u001b[0m\u001b[0;34m,\u001b[0m \u001b[0mcancellation_manager\u001b[0m\u001b[0;34m)\u001b[0m\u001b[0;34m\u001b[0m\u001b[0;34m\u001b[0m\u001b[0m\n\u001b[0m\u001b[1;32m   1122\u001b[0m \u001b[0;34m\u001b[0m\u001b[0m\n\u001b[1;32m   1123\u001b[0m   \u001b[0;32mdef\u001b[0m \u001b[0m_filtered_call\u001b[0m\u001b[0;34m(\u001b[0m\u001b[0mself\u001b[0m\u001b[0;34m,\u001b[0m \u001b[0margs\u001b[0m\u001b[0;34m,\u001b[0m \u001b[0mkwargs\u001b[0m\u001b[0;34m)\u001b[0m\u001b[0;34m:\u001b[0m\u001b[0;34m\u001b[0m\u001b[0;34m\u001b[0m\u001b[0m\n",
      "\u001b[0;32m~/opt/anaconda3/lib/python3.7/site-packages/tensorflow_core/python/eager/function.py\u001b[0m in \u001b[0;36m_call_flat\u001b[0;34m(self, args, captured_inputs, cancellation_manager)\u001b[0m\n\u001b[1;32m   1222\u001b[0m     \u001b[0;32mif\u001b[0m \u001b[0mexecuting_eagerly\u001b[0m\u001b[0;34m:\u001b[0m\u001b[0;34m\u001b[0m\u001b[0;34m\u001b[0m\u001b[0m\n\u001b[1;32m   1223\u001b[0m       flat_outputs = forward_function.call(\n\u001b[0;32m-> 1224\u001b[0;31m           ctx, args, cancellation_manager=cancellation_manager)\n\u001b[0m\u001b[1;32m   1225\u001b[0m     \u001b[0;32melse\u001b[0m\u001b[0;34m:\u001b[0m\u001b[0;34m\u001b[0m\u001b[0;34m\u001b[0m\u001b[0m\n\u001b[1;32m   1226\u001b[0m       \u001b[0mgradient_name\u001b[0m \u001b[0;34m=\u001b[0m \u001b[0mself\u001b[0m\u001b[0;34m.\u001b[0m\u001b[0m_delayed_rewrite_functions\u001b[0m\u001b[0;34m.\u001b[0m\u001b[0mregister\u001b[0m\u001b[0;34m(\u001b[0m\u001b[0;34m)\u001b[0m\u001b[0;34m\u001b[0m\u001b[0;34m\u001b[0m\u001b[0m\n",
      "\u001b[0;32m~/opt/anaconda3/lib/python3.7/site-packages/tensorflow_core/python/eager/function.py\u001b[0m in \u001b[0;36mcall\u001b[0;34m(self, ctx, args, cancellation_manager)\u001b[0m\n\u001b[1;32m    509\u001b[0m               \u001b[0minputs\u001b[0m\u001b[0;34m=\u001b[0m\u001b[0margs\u001b[0m\u001b[0;34m,\u001b[0m\u001b[0;34m\u001b[0m\u001b[0;34m\u001b[0m\u001b[0m\n\u001b[1;32m    510\u001b[0m               \u001b[0mattrs\u001b[0m\u001b[0;34m=\u001b[0m\u001b[0;34m(\u001b[0m\u001b[0;34m\"executor_type\"\u001b[0m\u001b[0;34m,\u001b[0m \u001b[0mexecutor_type\u001b[0m\u001b[0;34m,\u001b[0m \u001b[0;34m\"config_proto\"\u001b[0m\u001b[0;34m,\u001b[0m \u001b[0mconfig\u001b[0m\u001b[0;34m)\u001b[0m\u001b[0;34m,\u001b[0m\u001b[0;34m\u001b[0m\u001b[0;34m\u001b[0m\u001b[0m\n\u001b[0;32m--> 511\u001b[0;31m               ctx=ctx)\n\u001b[0m\u001b[1;32m    512\u001b[0m         \u001b[0;32melse\u001b[0m\u001b[0;34m:\u001b[0m\u001b[0;34m\u001b[0m\u001b[0;34m\u001b[0m\u001b[0m\n\u001b[1;32m    513\u001b[0m           outputs = execute.execute_with_cancellation(\n",
      "\u001b[0;32m~/opt/anaconda3/lib/python3.7/site-packages/tensorflow_core/python/eager/execute.py\u001b[0m in \u001b[0;36mquick_execute\u001b[0;34m(op_name, num_outputs, inputs, attrs, ctx, name)\u001b[0m\n\u001b[1;32m     59\u001b[0m     tensors = pywrap_tensorflow.TFE_Py_Execute(ctx._handle, device_name,\n\u001b[1;32m     60\u001b[0m                                                \u001b[0mop_name\u001b[0m\u001b[0;34m,\u001b[0m \u001b[0minputs\u001b[0m\u001b[0;34m,\u001b[0m \u001b[0mattrs\u001b[0m\u001b[0;34m,\u001b[0m\u001b[0;34m\u001b[0m\u001b[0;34m\u001b[0m\u001b[0m\n\u001b[0;32m---> 61\u001b[0;31m                                                num_outputs)\n\u001b[0m\u001b[1;32m     62\u001b[0m   \u001b[0;32mexcept\u001b[0m \u001b[0mcore\u001b[0m\u001b[0;34m.\u001b[0m\u001b[0m_NotOkStatusException\u001b[0m \u001b[0;32mas\u001b[0m \u001b[0me\u001b[0m\u001b[0;34m:\u001b[0m\u001b[0;34m\u001b[0m\u001b[0;34m\u001b[0m\u001b[0m\n\u001b[1;32m     63\u001b[0m     \u001b[0;32mif\u001b[0m \u001b[0mname\u001b[0m \u001b[0;32mis\u001b[0m \u001b[0;32mnot\u001b[0m \u001b[0;32mNone\u001b[0m\u001b[0;34m:\u001b[0m\u001b[0;34m\u001b[0m\u001b[0;34m\u001b[0m\u001b[0m\n",
      "\u001b[0;31mKeyboardInterrupt\u001b[0m: "
     ]
    }
   ],
   "source": [
    "import keras\n",
    "from keras.datasets import mnist\n",
    "from keras.models import Sequential\n",
    "from keras.layers import Dense, Dropout, Flatten\n",
    "from keras.layers import Conv2D, MaxPooling2D\n",
    "from keras import backend as K\n",
    "\n",
    "batch_size = 128\n",
    "num_classes = 10\n",
    "epochs = 6\n",
    "\n",
    "# input image dimensions\n",
    "img_rows, img_cols = 28, 28\n",
    "\n",
    "# the data, split between train and test sets\n",
    "(x_train, y_train), (x_test, y_test) = mnist.load_data()\n",
    "\n",
    "if K.image_data_format() == 'channels_first':\n",
    "    x_train = x_train.reshape(x_train.shape[0], 1, img_rows, img_cols)\n",
    "    x_test = x_test.reshape(x_test.shape[0], 1, img_rows, img_cols)\n",
    "    input_shape = (1, img_rows, img_cols)\n",
    "else:\n",
    "    x_train = x_train.reshape(x_train.shape[0], img_rows, img_cols, 1)\n",
    "    x_test = x_test.reshape(x_test.shape[0], img_rows, img_cols, 1)\n",
    "    input_shape = (img_rows, img_cols, 1)\n",
    "\n",
    "x_train = x_train.astype('float32')\n",
    "x_test = x_test.astype('float32')\n",
    "x_train /= 255\n",
    "x_test /= 255\n",
    "print('x_train shape:', x_train.shape)\n",
    "print(x_train.shape[0], 'train samples')\n",
    "print(x_test.shape[0], 'test samples')\n",
    "\n",
    "# convert class vectors to binary class matrices\n",
    "y_train = keras.utils.to_categorical(y_train, num_classes)\n",
    "y_test = keras.utils.to_categorical(y_test, num_classes)\n",
    "\n",
    "model = Sequential()\n",
    "model.add(Conv2D(32, kernel_size=(3, 3),\n",
    "                 activation='relu',\n",
    "                 input_shape=input_shape))\n",
    "model.add(Conv2D(64, (3, 3), activation='relu'))\n",
    "model.add(MaxPooling2D(pool_size=(2, 2)))\n",
    "model.add(Dropout(0.25))\n",
    "model.add(Flatten())\n",
    "model.add(Dense(128, activation='relu'))\n",
    "model.add(Dropout(0.5))\n",
    "model.add(Dense(num_classes, activation='softmax'))\n",
    "\n",
    "model.compile(loss=keras.losses.categorical_crossentropy,\n",
    "              optimizer=keras.optimizers.Adadelta(),\n",
    "              metrics=['accuracy'])\n",
    "\n",
    "model.fit(x_train, y_train,\n",
    "          batch_size=batch_size,\n",
    "          epochs=epochs,\n",
    "          verbose=1,\n",
    "          validation_data=(x_test, y_test))\n",
    "score = model.evaluate(x_test, y_test, verbose=0)\n",
    "print('Test loss:', score[0])\n",
    "print('Test accuracy:', score[1])"
   ]
  },
  {
   "cell_type": "code",
   "execution_count": 51,
   "metadata": {},
   "outputs": [],
   "source": [
    "x1 = K.eval(model(x))"
   ]
  },
  {
   "cell_type": "code",
   "execution_count": 52,
   "metadata": {},
   "outputs": [
    {
     "data": {
      "text/plain": [
       "<matplotlib.image.AxesImage at 0x64b122050>"
      ]
     },
     "execution_count": 52,
     "metadata": {},
     "output_type": "execute_result"
    },
    {
     "data": {
      "image/png": "[encoded data removed]",
      "text/plain": [
       "<Figure size 432x288 with 1 Axes>"
      ]
     },
     "metadata": {
      "needs_background": "light"
     },
     "output_type": "display_data"
    }
   ],
   "source": [
    "utils.Load(method='torch').mnist(sample=9)"
   ]
  },
  {
   "cell_type": "code",
   "execution_count": 45,
   "metadata": {},
   "outputs": [
    {
     "data": {
      "text/plain": [
       "<module 'src.utils' from '/Users/chadschupbach/projects/personal/mnist/src/utils.py'>"
      ]
     },
     "execution_count": 45,
     "metadata": {},
     "output_type": "execute_result"
    }
   ],
   "source": [
    "import importlib\n",
    "importlib.reload(utils)"
   ]
  },
  {
   "cell_type": "markdown",
   "metadata": {},
   "source": [
    "### Dropout"
   ]
  },
  {
   "cell_type": "code",
   "execution_count": 87,
   "metadata": {},
   "outputs": [],
   "source": [
    "from keras.layers import Dense, Dropout, Flatten\n",
    "from keras.models import Sequential"
   ]
  },
  {
   "cell_type": "code",
   "execution_count": 1639,
   "metadata": {},
   "outputs": [
    {
     "name": "stdout",
     "output_type": "stream",
     "text": [
      "True\n"
     ]
    },
    {
     "data": {
      "image/png": "[encoded data removed]",
      "text/plain": [
       "<Figure size 288x288 with 2 Axes>"
      ]
     },
     "metadata": {
      "needs_background": "light"
     },
     "output_type": "display_data"
    },
    {
     "data": {
      "image/png": "[encoded data removed]",
      "text/plain": [
       "<Figure size 288x288 with 2 Axes>"
      ]
     },
     "metadata": {
      "needs_background": "light"
     },
     "output_type": "display_data"
    }
   ],
   "source": [
    "relu = Conv2D(filters=6, kernel_size=3, activation='relu')\n",
    "dropout = Dropout(0.5)\n",
    "x1 = relu(x)\n",
    "x2 = dropout(x1)\n",
    "plt.figure(figsize=(4,4))\n",
    "plt.imshow(K.eval(x1)[0,:,:,0])\n",
    "plt.colorbar();\n",
    "plt.figure(figsize=(4,4))\n",
    "plt.imshow(K.eval(x2)[0,:,:,0])\n",
    "plt.colorbar();\n",
    "print(np.allclose(K.eval(x1), K.eval(x2)))\n",
    "# display_conv_pool(x, , network_id=3)"
   ]
  },
  {
   "cell_type": "code",
   "execution_count": 1659,
   "metadata": {},
   "outputs": [
    {
     "name": "stdout",
     "output_type": "stream",
     "text": [
      "(1, 26, 26, 3)\n",
      "(1, 13, 13, 3)\n",
      "(1, 11, 11, 6)\n",
      "(1, 5, 5, 6)\n",
      "(1, 3, 3, 6)\n",
      "(1, 54)\n",
      "(1, 32)\n"
     ]
    }
   ],
   "source": [
    "model = Sequential()\n",
    "model.add(Conv2D(filters=3, kernel_size=3, activation='relu'))\n",
    "x1 = keras.backend.eval(model(x))\n",
    "print(x1.shape)\n",
    "model.add(MaxPooling2D(pool_size=(2, 2)))\n",
    "x2 = keras.backend.eval(model(x))\n",
    "print(x2.shape)\n",
    "model.add(Conv2D(filters=6, kernel_size=3, activation='relu'))\n",
    "x3 = keras.backend.eval(model(x))\n",
    "print(x3.shape)\n",
    "model.add(MaxPooling2D(pool_size=(2, 2)))\n",
    "x4 = keras.backend.eval(model(x))\n",
    "print(x4.shape)\n",
    "model.add(Conv2D(filters=6, kernel_size=3, activation='relu'))\n",
    "x5 = keras.backend.eval(model(x))\n",
    "print(x5.shape)\n",
    "model.add(Flatten())\n",
    "x6 = keras.backend.eval(model(x))\n",
    "print(x6.shape)\n",
    "model.add(Dense(32, activation='relu'))\n",
    "x7 = keras.backend.eval(model(x))\n",
    "print(x7.shape)"
   ]
  },
  {
   "cell_type": "code",
   "execution_count": 1657,
   "metadata": {},
   "outputs": [
    {
     "data": {
      "text/plain": [
       "<matplotlib.image.AxesImage at 0x6e1c716d0>"
      ]
     },
     "execution_count": 1657,
     "metadata": {},
     "output_type": "execute_result"
    },
    {
     "data": {
      "image/png": "[encoded data removed]",
      "text/plain": [
       "<Figure size 432x288 with 1 Axes>"
      ]
     },
     "metadata": {
      "needs_background": "light"
     },
     "output_type": "display_data"
    }
   ],
   "source": [
    "plt.imshow(x6)"
   ]
  },
  {
   "cell_type": "markdown",
   "metadata": {},
   "source": [
    "### Loss Layer"
   ]
  },
  {
   "cell_type": "markdown",
   "metadata": {},
   "source": [
    "### Regularization"
   ]
  }
 ],
 "metadata": {
  "kernelspec": {
   "display_name": "Python 3",
   "language": "python",
   "name": "python3"
  },
  "language_info": {
   "codemirror_mode": {
    "name": "ipython",
    "version": 3
   },
   "file_extension": ".py",
   "mimetype": "text/x-python",
   "name": "python",
   "nbconvert_exporter": "python",
   "pygments_lexer": "ipython3",
   "version": "3.7.4"
  }
 },
 "nbformat": 4,
 "nbformat_minor": 2
}
