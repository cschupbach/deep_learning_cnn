{
 "cells": [
  {
   "cell_type": "markdown",
   "metadata": {},
   "source": [
    "# Architecture\n",
    "\n",
    "## Feature Learning"
   ]
  },
  {
   "cell_type": "markdown",
   "metadata": {},
   "source": [
    "### Convolution Layer"
   ]
  },
  {
   "cell_type": "code",
   "execution_count": 9,
   "metadata": {},
   "outputs": [],
   "source": [
    "from keras.layers.convolutional import Conv2D"
   ]
  },
  {
   "cell_type": "markdown",
   "metadata": {},
   "source": [
    "### Activation Layer"
   ]
  },
  {
   "cell_type": "code",
   "execution_count": 17,
   "metadata": {},
   "outputs": [],
   "source": [
    "from keras.layers.core import Activation"
   ]
  },
  {
   "cell_type": "markdown",
   "metadata": {},
   "source": [
    "#### Rectified Linear Unit  (ReLU)\n",
    "$$f(x) = \\begin{cases} 0 & \\text{for } x \\leq 0 \\\\\n",
    "x & \\text{for } x > 0 \\end{cases}$$\n",
    "\n",
    "#### Sigmoid\n",
    "$$f(x) = \\sigma(x) = \\frac{1}{1 + e^{-x}}$$\n",
    "\n",
    "#### Hyperbolic Tangent (tanh)\n",
    "$$f(x) = \\tanh(x) = \\frac{e^x - e^{-x}}{e^x + e^{-x}}$$\n",
    "\n",
    "#### Softmax\n",
    "$$P(y=j| \\mathbf{x}) = \\frac{e^{\\mathbf{x}^\\mathsf{T}\\mathbf{w}_j}}{\\sum_{k=1}^{k} e^{\\mathbf{x}^\\mathsf{T}\\mathbf{w}_k}}$$\n",
    "\n",
    "#### Exponential Linear Unit (ELU)\n",
    "$$f(\\alpha, x) = \\begin{cases} \\alpha (e^x - 1) & \\text{for } x \\leq 0 \\\\\n",
    "x & \\text{for } x > 0 \\end{cases}$$\n",
    "\n",
    "#### Softplus\n",
    "$$f(x) = \\ln(1 + e^x)$$\n",
    "\n",
    "#### Softsign\n",
    "$$f(x) = \\frac{x}{1 + |x|}$$\n",
    "\n",
    "#### Others\n",
    "\n",
    "- Leaky ReLU\n",
    "\n",
    "- PReLU\n",
    "\n",
    "- RReLU\n",
    "\n",
    "- SELU\n",
    "\n",
    "- GELU"
   ]
  },
  {
   "cell_type": "markdown",
   "metadata": {},
   "source": [
    "#### Exponential Linear Unit (ELU)\n",
    "\n",
    "#### Scaled Exponential Linear Unit (SELU)\n",
    "\n",
    "#### Softmax\n",
    "\n"
   ]
  },
  {
   "cell_type": "markdown",
   "metadata": {},
   "source": [
    "### Pooling Layer\n",
    "\n",
    "#### Max Pooling"
   ]
  },
  {
   "cell_type": "code",
   "execution_count": 8,
   "metadata": {},
   "outputs": [],
   "source": [
    "from keras.layers import MaxPooling2D"
   ]
  },
  {
   "cell_type": "markdown",
   "metadata": {},
   "source": [
    "#### Average Pooling"
   ]
  },
  {
   "cell_type": "code",
   "execution_count": 7,
   "metadata": {},
   "outputs": [],
   "source": [
    "from keras.layers import AveragePooling2D"
   ]
  }
 ],
 "metadata": {
  "kernelspec": {
   "display_name": "Python 3",
   "language": "python",
   "name": "python3"
  },
  "language_info": {
   "codemirror_mode": {
    "name": "ipython",
    "version": 3
   },
   "file_extension": ".py",
   "mimetype": "text/x-python",
   "name": "python",
   "nbconvert_exporter": "python",
   "pygments_lexer": "ipython3",
   "version": "3.7.4"
  }
 },
 "nbformat": 4,
 "nbformat_minor": 2
}
